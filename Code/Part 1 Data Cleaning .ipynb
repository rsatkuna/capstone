{
 "cells": [
  {
   "cell_type": "markdown",
   "id": "e199f4cb-44ee-4b4d-ab6c-17cc83d0d129",
   "metadata": {},
   "source": [
    "# Capstone Project Part 1: Data Cleaning"
   ]
  },
  {
   "cell_type": "code",
   "execution_count": 1,
   "id": "3d3f45c5-90b7-4bef-83df-0a1b984016d0",
   "metadata": {},
   "outputs": [],
   "source": [
    "# imports\n",
    "import pandas as pd\n",
    "import numpy as np\n",
    "import re\n",
    "import pickle\n",
    "import os\n",
    "import numpy as np\n",
    "from category_encoders import TargetEncoder \n",
    "import matplotlib.pyplot as plt\n",
    "import seaborn as sns\n",
    "from sklearn.model_selection import train_test_split, cross_val_score, cross_val_predict, KFold\n",
    "import reverse_geocoder as rg\n",
    "import pprint"
   ]
  },
  {
   "cell_type": "code",
   "execution_count": 2,
   "id": "60e1021d-ecc5-4624-9ac5-336d4955166a",
   "metadata": {},
   "outputs": [],
   "source": [
    "#reading in csv \n",
    "tdor = pd.read_csv('../Data/processed_data/tdor.csv')"
   ]
  },
  {
   "cell_type": "code",
   "execution_count": 3,
   "id": "7799d948-2154-4364-bdf0-3893ecdf6210",
   "metadata": {},
   "outputs": [],
   "source": [
    "# # to make DataFrames easier to navigate through during cleaning/EDA\n",
    "# pd.set_option('display.max_columns',100)\n",
    "pd.set_option('display.max_rows', 500)\n",
    "# pd.set_option('display.max_colwidth', None)"
   ]
  },
  {
   "cell_type": "code",
   "execution_count": 5,
   "id": "747bd116-a6b6-457e-b824-78172ea05aae",
   "metadata": {},
   "outputs": [],
   "source": [
    "# rename columns without special symbols\n",
    "tdor = tdor.rename(columns = {'Town/City/Municipality':'Location', 'State/Province':'State Province'})"
   ]
  },
  {
   "cell_type": "code",
   "execution_count": 6,
   "id": "a999ab48-d96c-485f-b9ce-b0709ac0c50c",
   "metadata": {},
   "outputs": [],
   "source": [
    "# converting column names to lowercase and removing spaces\n",
    "def convert_to_snake_case(df):\n",
    "    #add a space between any lowercase-capital letter pair, then replace spaces with _, the all to lowercase\n",
    "    new_cols = {col: re.sub(r\"([a-z]{1})([A-Z]{1})\", r\"\\1 \\2\", col).replace(\" \", \"_\").lower() for col in df.columns}\n",
    "    return df.rename(columns = new_cols, inplace = True)\n",
    "\n",
    "convert_to_snake_case(tdor)"
   ]
  },
  {
   "cell_type": "code",
   "execution_count": 7,
   "id": "be940fea-f948-4bd8-a628-432d813b6d40",
   "metadata": {},
   "outputs": [
    {
     "name": "stderr",
     "output_type": "stream",
     "text": [
      "/var/folders/qn/34_2dqh118513z6jb88w8spw0000gn/T/ipykernel_39320/2958069660.py:2: FutureWarning: The default value of regex will change from True to False in a future version.\n",
      "  tdor['age'] = tdor['age'].str.replace('about ','').str.replace('Under ','').str.replace('\"','').str.replace('\"','').str.replace('Approx. ','').str.replace('Under ','').str.split('-', expand=True).astype(float).mean(axis=1)\n"
     ]
    }
   ],
   "source": [
    "#taking out alphabetical and punctuation characters to make column numerical\n",
    "tdor['age'] = tdor['age'].str.replace('about ','').str.replace('Under ','').str.replace('\"','').str.replace('\"','').str.replace('Approx. ','').str.replace('Under ','').str.split('-', expand=True).astype(float).mean(axis=1)"
   ]
  },
  {
   "cell_type": "code",
   "execution_count": 8,
   "id": "b937d31a-527f-4fe2-b9ef-e4e16ba5c70b",
   "metadata": {},
   "outputs": [
    {
     "data": {
      "text/plain": [
       "0   2022-01-01\n",
       "1   2022-01-02\n",
       "Name: date, dtype: datetime64[ns]"
      ]
     },
     "execution_count": 8,
     "metadata": {},
     "output_type": "execute_result"
    }
   ],
   "source": [
    "# converting the date column to datetime\n",
    "tdor['date'] = pd.to_datetime(tdor['date'].str.zfill(6), format = '%d-%b-%Y')\n",
    "tdor['date'].head(2)"
   ]
  },
  {
   "cell_type": "code",
   "execution_count": 9,
   "id": "b5598f7b-3052-4ced-9033-723a050eb341",
   "metadata": {},
   "outputs": [],
   "source": [
    "# creating a year column from the date column\n",
    "tdor['year'] = pd.DatetimeIndex(tdor['date']).year"
   ]
  },
  {
   "cell_type": "code",
   "execution_count": 10,
   "id": "08010434-6f3e-4697-a212-54dd8dbc7f1b",
   "metadata": {},
   "outputs": [],
   "source": [
    "# tdor['longitude'].astype('float')\n",
    "tdor['longitude'] = (tdor['longitude'].str.replace(',', ''))\n",
    "tdor['latitude'] = (tdor['latitude'].str.replace(',', ''))"
   ]
  },
  {
   "cell_type": "code",
   "execution_count": 11,
   "id": "14dc6001-a258-42f9-9bfc-a812fe6bb344",
   "metadata": {},
   "outputs": [],
   "source": [
    "# converting longitude column to float\n",
    "tdor['longitude']=tdor['longitude'].astype('float')"
   ]
  },
  {
   "cell_type": "code",
   "execution_count": 12,
   "id": "617ff403-0ac0-41f6-a403-205987139e3c",
   "metadata": {},
   "outputs": [],
   "source": [
    "# converting latitude column to float\n",
    "tdor['latitude']=tdor['latitude'].astype('float')"
   ]
  },
  {
   "cell_type": "code",
   "execution_count": 13,
   "id": "204ef79d-c274-4b13-a392-0e1da9748328",
   "metadata": {},
   "outputs": [],
   "source": [
    "# dropping null values in longitude/latitude columns\n",
    "tdor.dropna(subset=['longitude','longitude'],inplace=True)"
   ]
  },
  {
   "cell_type": "code",
   "execution_count": 14,
   "id": "4ec234a9-46c9-4316-aac9-328826867559",
   "metadata": {},
   "outputs": [],
   "source": [
    "def reverseGeocode(coordinates):\n",
    "    result = rg.search(coordinates) \n",
    "    # result is a list containing ordered dictionary.\n",
    "    return result\n"
   ]
  },
  {
   "cell_type": "code",
   "execution_count": 15,
   "id": "788eaadd-e6f4-450b-ad05-242680b44883",
   "metadata": {
    "scrolled": true,
    "tags": []
   },
   "outputs": [],
   "source": [
    "# dictionary to convert country codes to country names from reverseGeocode function\n",
    "country_codes_to_country = {\n",
    "\t'AD': 'Andorra',\n",
    "\t'AE': 'United Arab Emirates',\n",
    "\t'AF': 'Afghanistan',\n",
    "\t'AG': 'Antigua & Barbuda',\n",
    "\t'AI': 'Anguilla',\n",
    "\t'AL': 'Albania',\n",
    "\t'AM': 'Armenia',\n",
    "\t'AN': 'Netherlands Antilles',\n",
    "\t'AO': 'Angola',\n",
    "\t'AQ': 'Antarctica',\n",
    "\t'AR': 'Argentina',\n",
    "\t'AS': 'American Samoa',\n",
    "\t'AT': 'Austria',\n",
    "\t'AU': 'Australia',\n",
    "\t'AW': 'Aruba',\n",
    "\t'AZ': 'Azerbaijan',\n",
    "\t'BA': 'Bosnia and Herzegovina',\n",
    "\t'BB': 'Barbados',\n",
    "\t'BD': 'Bangladesh',\n",
    "\t'BE': 'Belgium',\n",
    "\t'BF': 'Burkina Faso',\n",
    "\t'BG': 'Bulgaria',\n",
    "\t'BH': 'Bahrain',\n",
    "\t'BI': 'Burundi',\n",
    "\t'BJ': 'Benin',\n",
    "\t'BM': 'Bermuda',\n",
    "\t'BN': 'Brunei Darussalam',\n",
    "\t'BO': 'Bolivia',\n",
    "\t'BR': 'Brazil',\n",
    "\t'BS': 'Bahama',\n",
    "\t'BT': 'Bhutan',\n",
    "\t'BU': 'Burma (no longer exists)',\n",
    "\t'BV': 'Bouvet Island',\n",
    "\t'BW': 'Botswana',\n",
    "\t'BY': 'Belarus',\n",
    "\t'BZ': 'Belize',\n",
    "\t'CA': 'Canada',\n",
    "\t'CC': 'Cocos (Keeling) Islands',\n",
    "\t'CF': 'Central African Republic',\n",
    "\t'CG': 'Congo',\n",
    "\t'CH': 'Switzerland',\n",
    "\t'CI': 'Côte D\\'ivoire (Ivory Coast)',\n",
    "\t'CK': 'Cook Iislands',\n",
    "\t'CL': 'Chile',\n",
    "\t'CM': 'Cameroon',\n",
    "\t'CN': 'China',\n",
    "\t'CO': 'Colombia',\n",
    "\t'CR': 'Costa Rica',\n",
    "\t'CS': 'Czechoslovakia (no longer exists)',\n",
    "\t'CU': 'Cuba',\n",
    "\t'CV': 'Cape Verde',\n",
    "\t'CX': 'Christmas Island',\n",
    "\t'CY': 'Cyprus',\n",
    "\t'CZ': 'Czech Republic',\n",
    "\t'DD': 'German Democratic Republic (no longer exists)',\n",
    "\t'DE': 'Germany',\n",
    "\t'DJ': 'Djibouti',\n",
    "\t'DK': 'Denmark',\n",
    "\t'DM': 'Dominica',\n",
    "\t'DO': 'Dominican Republic',\n",
    "\t'DZ': 'Algeria',\n",
    "\t'EC': 'Ecuador',\n",
    "\t'EE': 'Estonia',\n",
    "\t'EG': 'Egypt',\n",
    "\t'EH': 'Western Sahara',\n",
    "\t'ER': 'Eritrea',\n",
    "\t'ES': 'Spain',\n",
    "\t'ET': 'Ethiopia',\n",
    "\t'FI': 'Finland',\n",
    "\t'FJ': 'Fiji',\n",
    "\t'FK': 'Falkland Islands (Malvinas)',\n",
    "\t'FM': 'Micronesia',\n",
    "\t'FO': 'Faroe Islands',\n",
    "\t'FR': 'France',\n",
    "\t'FX': 'France, Metropolitan',\n",
    "\t'GA': 'Gabon',\n",
    "\t'GB': 'United Kingdom (Great Britain)',\n",
    "\t'GD': 'Grenada',\n",
    "\t'GE': 'Georgia',\n",
    "\t'GF': 'French Guiana',\n",
    "\t'GH': 'Ghana',\n",
    "\t'GI': 'Gibraltar',\n",
    "\t'GL': 'Greenland',\n",
    "\t'GM': 'Gambia',\n",
    "\t'GN': 'Guinea',\n",
    "\t'GP': 'Guadeloupe',\n",
    "\t'GQ': 'Equatorial Guinea',\n",
    "\t'GR': 'Greece',\n",
    "\t'GS': 'South Georgia and the South Sandwich Islands',\n",
    "\t'GT': 'Guatemala',\n",
    "\t'GU': 'Guam',\n",
    "\t'GW': 'Guinea-Bissau',\n",
    "\t'GY': 'Guyana',\n",
    "\t'HK': 'Hong Kong',\n",
    "\t'HM': 'Heard & McDonald Islands',\n",
    "\t'HN': 'Honduras',\n",
    "\t'HR': 'Croatia',\n",
    "\t'HT': 'Haiti',\n",
    "\t'HU': 'Hungary',\n",
    "\t'ID': 'Indonesia',\n",
    "\t'IE': 'Ireland',\n",
    "\t'IL': 'Israel',\n",
    "\t'IN': 'India',\n",
    "\t'IO': 'British Indian Ocean Territory',\n",
    "\t'IQ': 'Iraq',\n",
    "\t'IR': 'Islamic Republic of Iran',\n",
    "\t'IS': 'Iceland',\n",
    "\t'IT': 'Italy',\n",
    "\t'JM': 'Jamaica',\n",
    "\t'JO': 'Jordan',\n",
    "\t'JP': 'Japan',\n",
    "\t'KE': 'Kenya',\n",
    "\t'KG': 'Kyrgyzstan',\n",
    "\t'KH': 'Cambodia',\n",
    "\t'KI': 'Kiribati',\n",
    "\t'KM': 'Comoros',\n",
    "\t'KN': 'St. Kitts and Nevis',\n",
    "\t'KP': 'Korea, Democratic People\\'s Republic of',\n",
    "\t'KR': 'Korea, Republic of',\n",
    "\t'KW': 'Kuwait',\n",
    "\t'KY': 'Cayman Islands',\n",
    "\t'KZ': 'Kazakhstan',\n",
    "\t'LA': 'Lao People\\'s Democratic Republic',\n",
    "\t'LB': 'Lebanon',\n",
    "\t'LC': 'Saint Lucia',\n",
    "\t'LI': 'Liechtenstein',\n",
    "\t'LK': 'Sri Lanka',\n",
    "\t'LR': 'Liberia',\n",
    "\t'LS': 'Lesotho',\n",
    "\t'LT': 'Lithuania',\n",
    "\t'LU': 'Luxembourg',\n",
    "\t'LV': 'Latvia',\n",
    "\t'LY': 'Libyan Arab Jamahiriya',\n",
    "\t'MA': 'Morocco',\n",
    "\t'MC': 'Monaco',\n",
    "\t'MD': 'Moldova, Republic of',\n",
    "\t'MG': 'Madagascar',\n",
    "\t'MH': 'Marshall Islands',\n",
    "\t'ML': 'Mali',\n",
    "\t'MN': 'Mongolia',\n",
    "\t'MM': 'Myanmar',\n",
    "\t'MO': 'Macau',\n",
    "\t'MP': 'Northern Mariana Islands',\n",
    "\t'MQ': 'Martinique',\n",
    "\t'MR': 'Mauritania',\n",
    "\t'MS': 'Monserrat',\n",
    "\t'MT': 'Malta',\n",
    "\t'MU': 'Mauritius',\n",
    "\t'MV': 'Maldives',\n",
    "\t'MW': 'Malawi',\n",
    "\t'MX': 'Mexico',\n",
    "\t'MY': 'Malaysia',\n",
    "\t'MZ': 'Mozambique',\n",
    "\t'NA': 'Namibia',\n",
    "\t'NC': 'New Caledonia',\n",
    "\t'NE': 'Niger',\n",
    "\t'NF': 'Norfolk Island',\n",
    "\t'NG': 'Nigeria',\n",
    "\t'NI': 'Nicaragua',\n",
    "\t'NL': 'Netherlands',\n",
    "\t'NO': 'Norway',\n",
    "\t'NP': 'Nepal',\n",
    "\t'NR': 'Nauru',\n",
    "\t'NT': 'Neutral Zone (no longer exists)',\n",
    "\t'NU': 'Niue',\n",
    "\t'NZ': 'New Zealand',\n",
    "\t'OM': 'Oman',\n",
    "\t'PA': 'Panama',\n",
    "\t'PE': 'Peru',\n",
    "\t'PF': 'French Polynesia',\n",
    "\t'PG': 'Papua New Guinea',\n",
    "\t'PH': 'Philippines',\n",
    "\t'PK': 'Pakistan',\n",
    "\t'PL': 'Poland',\n",
    "\t'PM': 'St. Pierre & Miquelon',\n",
    "\t'PN': 'Pitcairn',\n",
    "\t'PR': 'Puerto Rico',\n",
    "\t'PT': 'Portugal',\n",
    "\t'PW': 'Palau',\n",
    "\t'PY': 'Paraguay',\n",
    "\t'QA': 'Qatar',\n",
    "\t'RE': 'Réunion',\n",
    "\t'RO': 'Romania',\n",
    "\t'RU': 'Russian Federation',\n",
    "    'RS': 'Serbia',\n",
    "\t'RW': 'Rwanda',\n",
    "\t'SA': 'Saudi Arabia',\n",
    "\t'SB': 'Solomon Islands',\n",
    "\t'SC': 'Seychelles',\n",
    "\t'SD': 'Sudan',\n",
    "\t'SE': 'Sweden',\n",
    "\t'SG': 'Singapore',\n",
    "\t'SH': 'St. Helena',\n",
    "\t'SI': 'Slovenia',\n",
    "\t'SJ': 'Svalbard & Jan Mayen Islands',\n",
    "\t'SK': 'Slovakia',\n",
    "\t'SL': 'Sierra Leone',\n",
    "\t'SM': 'San Marino',\n",
    "\t'SN': 'Senegal',\n",
    "\t'SO': 'Somalia',\n",
    "\t'SR': 'Suriname',\n",
    "\t'ST': 'Sao Tome & Principe',\n",
    "\t'SU': 'Union of Soviet Socialist Republics (no longer exists)',\n",
    "\t'SV': 'El Salvador',\n",
    "\t'SY': 'Syrian Arab Republic',\n",
    "\t'SZ': 'Swaziland',\n",
    "\t'TC': 'Turks & Caicos Islands',\n",
    "\t'TD': 'Chad',\n",
    "\t'TF': 'French Southern Territories',\n",
    "\t'TG': 'Togo',\n",
    "\t'TH': 'Thailand',\n",
    "\t'TJ': 'Tajikistan',\n",
    "\t'TK': 'Tokelau',\n",
    "\t'TM': 'Turkmenistan',\n",
    "\t'TN': 'Tunisia',\n",
    "\t'TO': 'Tonga',\n",
    "\t'TP': 'East Timor',\n",
    "\t'TR': 'Turkey',\n",
    "\t'TT': 'Trinidad & Tobago',\n",
    "\t'TV': 'Tuvalu',\n",
    "\t'TW': 'Taiwan, Province of China',\n",
    "\t'TZ': 'Tanzania, United Republic of',\n",
    "\t'UA': 'Ukraine',\n",
    "\t'UG': 'Uganda',\n",
    "\t'UM': 'United States Minor Outlying Islands',\n",
    "\t'US': 'United States of America',\n",
    "\t'UY': 'Uruguay',\n",
    "\t'UZ': 'Uzbekistan',\n",
    "\t'VA': 'Vatican City State (Holy See)',\n",
    "\t'VC': 'St. Vincent & the Grenadines',\n",
    "\t'VE': 'Venezuela',\n",
    "\t'VG': 'British Virgin Islands',\n",
    "\t'VI': 'United States Virgin Islands',\n",
    "\t'VN': 'Viet Nam',\n",
    "\t'VU': 'Vanuatu',\n",
    "\t'WF': 'Wallis & Futuna Islands',\n",
    "\t'WS': 'Samoa',\n",
    "\t'YD': 'Democratic Yemen (no longer exists)',\n",
    "\t'YE': 'Yemen',\n",
    "\t'YT': 'Mayotte',\n",
    "\t'YU': 'Yugoslavia',\n",
    "\t'ZA': 'South Africa',\n",
    "\t'ZM': 'Zambia',\n",
    "\t'ZR': 'Zaire',\n",
    "\t'ZW': 'Zimbabwe',\n",
    "\t'ZZ': 'Unknown or unspecified country',\n",
    "}"
   ]
  },
  {
   "cell_type": "code",
   "execution_count": 16,
   "id": "17a6d90d-8f7c-4b77-bf3a-51dfe48a5c12",
   "metadata": {},
   "outputs": [
    {
     "name": "stdout",
     "output_type": "stream",
     "text": [
      "Loading formatted geocoded file...\n"
     ]
    },
    {
     "data": {
      "text/plain": [
       "[{'lat': '30.33218',\n",
       "  'lon': '-81.65565',\n",
       "  'name': 'Jacksonville',\n",
       "  'admin1': 'Florida',\n",
       "  'admin2': 'Duval County',\n",
       "  'cc': 'US'}]"
      ]
     },
     "execution_count": 16,
     "metadata": {},
     "output_type": "execute_result"
    }
   ],
   "source": [
    "location=(30.253618,-81.554299)\n",
    "reverseGeocode(location)\n",
    "# name is city, admin1 is state, admin2 is county, cc is country"
   ]
  },
  {
   "cell_type": "code",
   "execution_count": 17,
   "id": "8aa56ea7-bf60-4e45-94d4-0abe08bf5d92",
   "metadata": {},
   "outputs": [],
   "source": [
    "# # creates empty column for city names that gets its value from geocoding\n",
    "tdor['city'] = ''\n",
    "# for index,row in tdor.iterrows():\n",
    "#     if row['latitude'] and row['longitude']:\n",
    "#         geocodex = reverseGeocode((row['latitude'], row['longitude'])) \n",
    "#         tdor.loc[index,'city'] = geocodex[0]['name']\n",
    "#         tdor.loc[index,'state_province'] = geocodex[0]['admin1']\n",
    "#         tdor.loc[index,'location'] = geocodex[0]['admin2']\n",
    "#         tdor.loc[index,'country'] = country_codes_to_country[geocodex[0]['cc']]\n",
    "\n"
   ]
  },
  {
   "cell_type": "code",
   "execution_count": 18,
   "id": "68cef9c2-6ee7-4727-97d8-982f8b2ea2a0",
   "metadata": {},
   "outputs": [
    {
     "data": {
      "text/plain": [
       "name                 0\n",
       "age               1366\n",
       "photo             2349\n",
       "photo_source      2507\n",
       "date                 0\n",
       "source_ref         481\n",
       "location             0\n",
       "state_province       0\n",
       "country              0\n",
       "latitude             0\n",
       "longitude            0\n",
       "category             1\n",
       "cause_of_death       0\n",
       "description          3\n",
       "tweet             2215\n",
       "permalink            0\n",
       "year                 0\n",
       "city                 0\n",
       "dtype: int64"
      ]
     },
     "execution_count": 18,
     "metadata": {},
     "output_type": "execute_result"
    }
   ],
   "source": [
    "tdor.isna().sum()"
   ]
  },
  {
   "cell_type": "code",
   "execution_count": 20,
   "id": "b66db07c-cc98-4afd-83dc-e262f5c89b89",
   "metadata": {},
   "outputs": [],
   "source": [
    "# dropping  columns that are not needed for our analysis\n",
    "tdor=tdor.drop(columns = ['photo','photo_source','tweet','source_ref', 'permalink'])"
   ]
  },
  {
   "cell_type": "code",
   "execution_count": 21,
   "id": "a08f7d23-c5ff-465f-ae4f-165452dd0140",
   "metadata": {},
   "outputs": [],
   "source": [
    "# created city column so location column is unnecessary\n",
    "tdor.drop(columns='location', inplace=True)"
   ]
  },
  {
   "cell_type": "code",
   "execution_count": 22,
   "id": "b5d1b921-0c9c-43f6-8d07-2a79a6f6385d",
   "metadata": {},
   "outputs": [],
   "source": [
    "# exporting tdor to save our post-reverse geocode dataframe (as it took 5 hours..)\n",
    "# tdor.to_csv('../Data/processed_data/tdor_presplit.csv',index=False)"
   ]
  },
  {
   "cell_type": "markdown",
   "id": "893b954a-aff6-47ff-8888-4ae597bd2049",
   "metadata": {},
   "source": [
    "# Splitting into Train and Test Sets"
   ]
  },
  {
   "cell_type": "code",
   "execution_count": 23,
   "id": "0c819fa4-6eef-43c5-93f1-e9c9ccaea0cd",
   "metadata": {},
   "outputs": [],
   "source": [
    "# splitting train data into a train,test \n",
    "train, test  = train_test_split(tdor, test_size=0.3, random_state=42)"
   ]
  },
  {
   "cell_type": "markdown",
   "id": "f53b1907-6da9-4cf3-99b7-fbfbf508ee29",
   "metadata": {
    "tags": []
   },
   "source": [
    "# Imputing"
   ]
  },
  {
   "cell_type": "code",
   "execution_count": 24,
   "id": "f382221c-afc7-4c74-a6d1-2e58280e74a7",
   "metadata": {},
   "outputs": [
    {
     "name": "stderr",
     "output_type": "stream",
     "text": [
      "/var/folders/qn/34_2dqh118513z6jb88w8spw0000gn/T/ipykernel_39320/3404858917.py:3: SettingWithCopyWarning: \n",
      "A value is trying to be set on a copy of a slice from a DataFrame.\n",
      "Try using .loc[row_indexer,col_indexer] = value instead\n",
      "\n",
      "See the caveats in the documentation: https://pandas.pydata.org/pandas-docs/stable/user_guide/indexing.html#returning-a-view-versus-a-copy\n",
      "  train['age'] = train['age'].fillna(train['age'].median())\n",
      "/var/folders/qn/34_2dqh118513z6jb88w8spw0000gn/T/ipykernel_39320/3404858917.py:4: SettingWithCopyWarning: \n",
      "A value is trying to be set on a copy of a slice from a DataFrame.\n",
      "Try using .loc[row_indexer,col_indexer] = value instead\n",
      "\n",
      "See the caveats in the documentation: https://pandas.pydata.org/pandas-docs/stable/user_guide/indexing.html#returning-a-view-versus-a-copy\n",
      "  test['age'] = test['age'].fillna(train['age'].median())\n"
     ]
    }
   ],
   "source": [
    "# impute missing values for age by finding the median of age\n",
    "# apply training set age median to testing set \n",
    "train['age'] = train['age'].fillna(train['age'].median())\n",
    "test['age'] = test['age'].fillna(train['age'].median())"
   ]
  },
  {
   "cell_type": "code",
   "execution_count": 25,
   "id": "b9365b48-41af-402e-b40d-9eda96c4f598",
   "metadata": {},
   "outputs": [
    {
     "name": "stderr",
     "output_type": "stream",
     "text": [
      "/Users/ranyasatkuna/opt/anaconda3/envs/dsi/lib/python3.9/site-packages/pandas/util/_decorators.py:311: SettingWithCopyWarning: \n",
      "A value is trying to be set on a copy of a slice from a DataFrame\n",
      "\n",
      "See the caveats in the documentation: https://pandas.pydata.org/pandas-docs/stable/user_guide/indexing.html#returning-a-view-versus-a-copy\n",
      "  return func(*args, **kwargs)\n"
     ]
    }
   ],
   "source": [
    "# dropping all missing values\n",
    "train.dropna(inplace=True)\n",
    "test.dropna(inplace=True)"
   ]
  },
  {
   "cell_type": "code",
   "execution_count": 26,
   "id": "4420f410-27f8-40c2-a661-1778ecb69cf1",
   "metadata": {},
   "outputs": [
    {
     "name": "stderr",
     "output_type": "stream",
     "text": [
      "/var/folders/qn/34_2dqh118513z6jb88w8spw0000gn/T/ipykernel_39320/601105749.py:2: SettingWithCopyWarning: \n",
      "A value is trying to be set on a copy of a slice from a DataFrame.\n",
      "Try using .loc[row_indexer,col_indexer] = value instead\n",
      "\n",
      "See the caveats in the documentation: https://pandas.pydata.org/pandas-docs/stable/user_guide/indexing.html#returning-a-view-versus-a-copy\n",
      "  train['violence']=train['category'].map({'violence': 1, 'uncategorised':0, 'suicide':0, 'medical':0,'custodial':0})\n"
     ]
    }
   ],
   "source": [
    "# creating a binary column for violent deaths vs nonviolent for training set\n",
    "train['violence']=train['category'].map({'violence': 1, 'uncategorised':0, 'suicide':0, 'medical':0,'custodial':0})"
   ]
  },
  {
   "cell_type": "code",
   "execution_count": 27,
   "id": "882a6537-42d0-422d-85ed-17f71934d27d",
   "metadata": {},
   "outputs": [
    {
     "name": "stderr",
     "output_type": "stream",
     "text": [
      "/var/folders/qn/34_2dqh118513z6jb88w8spw0000gn/T/ipykernel_39320/1319424010.py:2: SettingWithCopyWarning: \n",
      "A value is trying to be set on a copy of a slice from a DataFrame.\n",
      "Try using .loc[row_indexer,col_indexer] = value instead\n",
      "\n",
      "See the caveats in the documentation: https://pandas.pydata.org/pandas-docs/stable/user_guide/indexing.html#returning-a-view-versus-a-copy\n",
      "  test['violence']=test['category'].map({'violence': 1, 'uncategorised':0, 'suicide':0, 'medical':0,'custodial':0})\n"
     ]
    }
   ],
   "source": [
    "# creating a binary column for violent deaths vs nonviolent for testing set\n",
    "test['violence']=test['category'].map({'violence': 1, 'uncategorised':0, 'suicide':0, 'medical':0,'custodial':0})"
   ]
  },
  {
   "cell_type": "code",
   "execution_count": 28,
   "id": "e03626a9-5494-4be4-90c1-80096267724f",
   "metadata": {},
   "outputs": [
    {
     "data": {
      "text/plain": [
       "name              0\n",
       "age               0\n",
       "date              0\n",
       "state_province    0\n",
       "country           0\n",
       "latitude          0\n",
       "longitude         0\n",
       "category          0\n",
       "cause_of_death    0\n",
       "description       0\n",
       "year              0\n",
       "city              0\n",
       "violence          0\n",
       "dtype: int64"
      ]
     },
     "execution_count": 28,
     "metadata": {},
     "output_type": "execute_result"
    }
   ],
   "source": [
    "# checking for null values in training set\n",
    "train.isna().sum()"
   ]
  },
  {
   "cell_type": "code",
   "execution_count": 29,
   "id": "07e8a85b-10e3-480e-9d7a-dcce96c64ad7",
   "metadata": {},
   "outputs": [
    {
     "data": {
      "text/plain": [
       "name              0\n",
       "age               0\n",
       "date              0\n",
       "state_province    0\n",
       "country           0\n",
       "latitude          0\n",
       "longitude         0\n",
       "category          0\n",
       "cause_of_death    0\n",
       "description       0\n",
       "year              0\n",
       "city              0\n",
       "violence          0\n",
       "dtype: int64"
      ]
     },
     "execution_count": 29,
     "metadata": {},
     "output_type": "execute_result"
    }
   ],
   "source": [
    "# checking for null values in testing set\n",
    "test.isna().sum()"
   ]
  },
  {
   "cell_type": "code",
   "execution_count": 30,
   "id": "9db8be59-e2a1-405d-adc0-8460a1c032af",
   "metadata": {},
   "outputs": [],
   "source": [
    "# exporting training set \n",
    "# train.to_csv('../Data/processed_data/train.csv',index=False)"
   ]
  },
  {
   "cell_type": "code",
   "execution_count": 31,
   "id": "04d9b0a4-26ce-437a-b117-eeb4cfeeb7da",
   "metadata": {},
   "outputs": [],
   "source": [
    "# exporting testing set\n",
    "# test.to_csv('../Data/processed_data/test.csv',index=False)"
   ]
  }
 ],
 "metadata": {
  "kernelspec": {
   "display_name": "Python [conda env:dsi]",
   "language": "python",
   "name": "conda-env-dsi-py"
  },
  "language_info": {
   "codemirror_mode": {
    "name": "ipython",
    "version": 3
   },
   "file_extension": ".py",
   "mimetype": "text/x-python",
   "name": "python",
   "nbconvert_exporter": "python",
   "pygments_lexer": "ipython3",
   "version": "3.9.7"
  }
 },
 "nbformat": 4,
 "nbformat_minor": 5
}
