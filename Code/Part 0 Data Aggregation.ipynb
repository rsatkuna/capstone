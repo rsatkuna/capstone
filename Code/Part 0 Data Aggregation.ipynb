{
 "cells": [
  {
   "cell_type": "markdown",
   "id": "40d3349a-3bf6-409e-9a52-cce2d595ae85",
   "metadata": {},
   "source": [
    "# Capstone Project: Part 0 Data Aggregation"
   ]
  },
  {
   "cell_type": "code",
   "execution_count": 1,
   "id": "aa184b4e-76fe-41e1-a30b-39e05dcd2648",
   "metadata": {},
   "outputs": [],
   "source": [
    "# imports\n",
    "import pandas as pd\n",
    "import os\n",
    "import re\n",
    "import pickle"
   ]
  },
  {
   "cell_type": "code",
   "execution_count": 2,
   "id": "06fb8c0c-9ad5-4839-bbae-f6029775e6b2",
   "metadata": {},
   "outputs": [
    {
     "data": {
      "text/plain": [
       "'/Users/ranyasatkuna/Documents/DSIR 1010/Projects/capstone/Code'"
      ]
     },
     "execution_count": 2,
     "metadata": {},
     "output_type": "execute_result"
    }
   ],
   "source": [
    "os.getcwd()"
   ]
  },
  {
   "cell_type": "code",
   "execution_count": 3,
   "id": "fcf31fff-8f2f-45b0-aba7-f2006157dee3",
   "metadata": {},
   "outputs": [],
   "source": [
    "root = os.getcwd()"
   ]
  },
  {
   "cell_type": "code",
   "execution_count": 4,
   "id": "0abc56ab-2762-4e2f-baa9-b65ac561761b",
   "metadata": {},
   "outputs": [],
   "source": [
    "os.chdir('../Data/original_data')"
   ]
  },
  {
   "cell_type": "code",
   "execution_count": 5,
   "id": "4352f10a-1e27-4e08-bd8f-f936284926ab",
   "metadata": {},
   "outputs": [],
   "source": [
    "jan2022 = pd.read_csv('./2022/tdor_2022_01.csv')\n",
    "feb2022 = pd.read_csv('./2022/tdor_2022_02.csv')\n",
    "mar2022 = pd.read_csv('./2022/tdor_2022_03.csv')\n",
    "apr2022 = pd.read_csv('./2022/tdor_2022_04.csv')\n",
    "may2022 = pd.read_csv('./2022/tdor_2022_05.csv')\n",
    "jun2022 = pd.read_csv('./2022/tdor_2022_06.csv')\n",
    "jul2022 = pd.read_csv('./2022/tdor_2022_07.csv')\n",
    "aug2022 = pd.read_csv('./2022/tdor_2022_08.csv')\n",
    "sep2022 = pd.read_csv('./2022/tdor_2022_09.csv')"
   ]
  },
  {
   "cell_type": "code",
   "execution_count": 6,
   "id": "7407e573-663a-4c08-bd5b-01c7f1bbc6a6",
   "metadata": {},
   "outputs": [],
   "source": [
    "feb2022 = feb2022.rename(columns = {'Location':'Town/City/Municipality'})"
   ]
  },
  {
   "cell_type": "code",
   "execution_count": 7,
   "id": "211cf623-873a-407c-9e0d-b98685c38274",
   "metadata": {},
   "outputs": [],
   "source": [
    "jan2022 = jan2022.iloc[:38,:-7]\n",
    "feb2022 = feb2022.iloc[:41,:-7]\n",
    "mar2022 = mar2022.iloc[:36,:-7]\n",
    "apr2022 = apr2022.iloc[:36,:-7]\n",
    "may2022 = may2022.iloc[:41,:-7]\n",
    "jun2022 = jun2022.iloc[:30,:-7]\n",
    "jul2022 = jul2022.iloc[:32,:-7]\n",
    "aug2022 = aug2022.iloc[:23,:-7]\n",
    "sep2022 = sep2022.iloc[:29,:-7]"
   ]
  },
  {
   "cell_type": "code",
   "execution_count": 8,
   "id": "8aee129a-3d05-4160-9a8b-fb4fc5e9ecbb",
   "metadata": {},
   "outputs": [],
   "source": [
    "df_2022 = pd.concat([jan2022,feb2022,mar2022,apr2022,may2022,jun2022,jul2022,aug2022,sep2022], axis = 0)\n",
    "df_2022= df_2022.drop(columns = ['Address','Locality','Birthdate'])\n",
    "df_2022 = df_2022.rename(columns = {'TDoR list ref':'Source ref'})\n"
   ]
  },
  {
   "cell_type": "code",
   "execution_count": 9,
   "id": "9ad9fdf2-c223-4cb9-8693-27008a9c6180",
   "metadata": {},
   "outputs": [],
   "source": [
    "jan2021 = pd.read_csv('./2021/tdor_2021_01.csv')\n",
    "feb2021 = pd.read_csv('./2021/tdor_2021_02.csv')\n",
    "mar2021 = pd.read_csv('./2021/tdor_2021_03.csv')\n",
    "apr2021 = pd.read_csv('./2021/tdor_2021_04.csv')\n",
    "may2021 = pd.read_csv('./2021/tdor_2021_05.csv')\n",
    "jun2021 = pd.read_csv('./2021/tdor_2021_06.csv')\n",
    "jul2021 = pd.read_csv('./2021/tdor_2021_07.csv')\n",
    "aug2021 = pd.read_csv('./2021/tdor_2021_08.csv')\n",
    "sep2021 = pd.read_csv('./2021/tdor_2021_09.csv')\n",
    "oct2021 = pd.read_csv('./2021/tdor_2021_10.csv')\n",
    "nov2021 = pd.read_csv('./2021/tdor_2021_11.csv')\n",
    "dec2021 = pd.read_csv('./2021/tdor_2021_12.csv')"
   ]
  },
  {
   "cell_type": "code",
   "execution_count": 10,
   "id": "24cf5de1-3113-4dba-9848-c77cc2ade90a",
   "metadata": {},
   "outputs": [],
   "source": [
    "feb2021 = feb2021.rename(columns = {'Location':'Town/City/Municipality'})\n",
    "aug2021 = aug2021.drop(columns = 'Unnamed: 19')\n",
    "oct2021 = oct2021.drop(columns = 'Unnamed: 19')\n",
    "# sept2021 completely unusable"
   ]
  },
  {
   "cell_type": "code",
   "execution_count": 11,
   "id": "81214c22-e1dd-4a34-9234-e0047a29ee4a",
   "metadata": {},
   "outputs": [],
   "source": [
    "jan2021 = jan2021.iloc[:,:]\n",
    "feb2021 = feb2021.iloc[:,:]\n",
    "mar2021 = mar2021.iloc[:38,:]\n",
    "apr2021 = apr2021.iloc[:,:]\n",
    "may2021 = may2021.iloc[:50,:]\n",
    "jun2021 = jun2021.iloc[:47,:]\n",
    "jul2021 = jul2021.iloc[:35,:]\n",
    "aug2021 = aug2021.iloc[:,:]\n",
    "sep2021 = sep2021.iloc[:,:]\n",
    "oct2021 = oct2021.iloc[:31,:]\n",
    "nov2021 = nov2021.iloc[:23,:]\n",
    "dec2021 = dec2021.iloc[:30,:]"
   ]
  },
  {
   "cell_type": "code",
   "execution_count": 12,
   "id": "a6219acd-59d6-480b-9922-19007bf2ebc8",
   "metadata": {},
   "outputs": [],
   "source": [
    "df_2021 = pd.concat([jan2021,feb2021,mar2021,apr2021,may2021,jun2021,jul2021,aug2021,oct2021,nov2021,dec2021], axis = 0)\n",
    "df_2021= df_2021.drop(columns = ['Address','Locality','Birthdate'])\n",
    "df_2021 = df_2021.rename(columns = {'TDoR list ref':'Source ref'})\n"
   ]
  },
  {
   "cell_type": "code",
   "execution_count": 13,
   "id": "9ead2365-bc78-47e0-9b10-46413c9e52d2",
   "metadata": {},
   "outputs": [],
   "source": [
    "jan2020 = pd.read_csv('./2020/tdor_2020_01.csv')\n",
    "feb2020 = pd.read_csv('./2020/tdor_2020_02.csv')\n",
    "mar2020 = pd.read_csv('./2020/tdor_2020_03.csv')\n",
    "apr2020 = pd.read_csv('./2020/tdor_2020_04.csv')\n",
    "may2020 = pd.read_csv('./2020/tdor_2020_05.csv')\n",
    "jun2020 = pd.read_csv('./2020/tdor_2020_06.csv')\n",
    "jul2020 = pd.read_csv('./2020/tdor_2020_07.csv')\n",
    "aug2020 = pd.read_csv('./2020/tdor_2020_08.csv')\n",
    "sep2020 = pd.read_csv('./2020/tdor_2020_09.csv')\n",
    "oct2020 = pd.read_csv('./2020/tdor_2020_10.csv')\n",
    "nov2020 = pd.read_csv('./2020/tdor_2020_11.csv')\n",
    "dec2020 = pd.read_csv('./2020/tdor_2020_12.csv')"
   ]
  },
  {
   "cell_type": "code",
   "execution_count": 14,
   "id": "325b8772-82d6-45bd-8179-1af62fab18ff",
   "metadata": {},
   "outputs": [],
   "source": [
    "oct2020 = oct2020.rename(columns = {'TDoR list ref':'Source ref'})\n",
    "nov2020 = nov2020.rename(columns = {'TDoR list ref':'Source ref'})\n",
    "dec2020 = dec2020.rename(columns = {'TDoR list ref':'Source ref'})\n",
    "oct2020 = oct2020.drop(columns = ['Address','Locality'])\n",
    "nov2020 = nov2020.drop(columns = ['Address','Locality'])\n",
    "dec2020 = dec2020.drop(columns = ['Address','Locality', 'Unnamed: 19'])"
   ]
  },
  {
   "cell_type": "code",
   "execution_count": 15,
   "id": "3bda2a4d-9adf-4e83-8633-801c2118baa8",
   "metadata": {},
   "outputs": [],
   "source": [
    "jan2020 = jan2020.iloc[:,:]\n",
    "feb2020 = feb2020.iloc[:,:]\n",
    "mar2020 = mar2020.iloc[:38,:]\n",
    "apr2020 = apr2020.iloc[:34,:]\n",
    "may2020 = may2020.iloc[:32,:]\n",
    "jun2020 = jun2020.iloc[:38,:]\n",
    "jul2020 = jul2020.iloc[:,:]\n",
    "aug2020 = aug2020.iloc[:,:]\n",
    "sep2020 = sep2020.iloc[:37,:]\n",
    "oct2020 = oct2020.iloc[:35,:]\n",
    "nov2020 = nov2020.iloc[:33,:]\n",
    "dec2020 = dec2020.iloc[:43,:]"
   ]
  },
  {
   "cell_type": "code",
   "execution_count": 16,
   "id": "b817e276-2d17-4d86-a225-1084947f6873",
   "metadata": {},
   "outputs": [],
   "source": [
    "df_2020 = pd.concat([jan2020,feb2020,mar2020,apr2020,may2020,jun2020,jul2020,aug2020,sep2020, oct2020,nov2020,dec2020], axis = 0)\n",
    "df_2020 = df_2020.drop(columns = 'Birthdate')\n",
    "df_2020 = df_2020.rename(columns = {'Location':'Town/City/Municipality'})"
   ]
  },
  {
   "cell_type": "code",
   "execution_count": 17,
   "id": "ac86ce3d-2988-4131-b9e7-a53284bc8148",
   "metadata": {},
   "outputs": [],
   "source": [
    "jan2019 = pd.read_csv('./2019/tdor_2019_01.csv')\n",
    "feb2019 = pd.read_csv('./2019/tdor_2019_02.csv')\n",
    "mar2019 = pd.read_csv('./2019/tdor_2019_03.csv')\n",
    "apr2019 = pd.read_csv('./2019/tdor_2019_04.csv')\n",
    "may2019 = pd.read_csv('./2019/tdor_2019_05.csv')\n",
    "jun2019 = pd.read_csv('./2019/tdor_2019_06.csv')\n",
    "jul2019 = pd.read_csv('./2019/tdor_2019_07.csv')\n",
    "aug2019 = pd.read_csv('./2019/tdor_2019_08.csv')\n",
    "sep2019 = pd.read_csv('./2019/tdor_2019_09.csv')\n",
    "oct2019 = pd.read_csv('./2019/tdor_2019_10.csv')\n",
    "nov2019 = pd.read_csv('./2019/tdor_2019_11.csv')\n",
    "dec2019 = pd.read_csv('./2019/tdor_2019_12.csv')"
   ]
  },
  {
   "cell_type": "code",
   "execution_count": 18,
   "id": "1449ce0a-2635-4186-bce2-eafec51d1388",
   "metadata": {},
   "outputs": [],
   "source": [
    "mar2019 = mar2019.rename(columns = {'TDoR list ref':'Source ref'})\n",
    "aug2019 = aug2019.rename(columns = {'TDoR list ref':'Source ref'})\n",
    "sep2019 = sep2019.rename(columns = {'TDoR list ref':'Source ref'})\n",
    "mar2019 = mar2019.drop(columns = ['Address','Locality'])\n",
    "sep2019 = sep2019.drop(columns = ['Address','Locality'])\n",
    "oct2019 = oct2019.drop(columns = ['Address','Locality'])\n",
    "jan2019 = jan2019.rename(columns = {'Location':'Town/City/Municipality'})\n",
    "feb2019 = feb2019.rename(columns = {'Location':'Town/City/Municipality'})\n",
    "apr2019 = apr2019.rename(columns = {'Location':'Town/City/Municipality'})\n",
    "may2019 = may2019.rename(columns = {'Location':'Town/City/Municipality'})\n",
    "jun2019 = jun2019.rename(columns = {'Location':'Town/City/Municipality'})\n",
    "jul2019 = jul2019.rename(columns = {'Location':'Town/City/Municipality'})\n",
    "aug2019 = aug2019.rename(columns = {'Location':'Town/City/Municipality'})\n",
    "nov2019 = nov2019.rename(columns = {'Location':'Town/City/Municipality'})\n",
    "dec2019 = dec2019.rename(columns = {'Location':'Town/City/Municipality'})\n"
   ]
  },
  {
   "cell_type": "code",
   "execution_count": 19,
   "id": "20e55cba-901a-4dc2-9661-aa71786d12af",
   "metadata": {},
   "outputs": [],
   "source": [
    "jan2019 = jan2019.iloc[:,:]\n",
    "feb2019 = feb2019.iloc[:27,:]\n",
    "mar2019 = mar2019.iloc[:38,:]\n",
    "apr2019 = apr2019.iloc[:30,:]\n",
    "may2019 = may2019.iloc[:,:]\n",
    "jun2019 = jun2019.iloc[:28,:]\n",
    "jul2019 = jul2019.iloc[:28,:-1]\n",
    "aug2019 = aug2019.iloc[:31,:-1]\n",
    "sep2019 = sep2019.iloc[:,:-1]\n",
    "oct2019 = oct2019.iloc[:29,:-1]\n",
    "nov2019 = nov2019.iloc[:26,:-1]\n",
    "dec2019 = dec2019.iloc[:28,:-1]"
   ]
  },
  {
   "cell_type": "code",
   "execution_count": 20,
   "id": "840f42cc-9776-4e36-9688-7d09c719ced3",
   "metadata": {},
   "outputs": [],
   "source": [
    "df_2019 = pd.concat([jan2019,feb2019,mar2019,apr2019,may2019,jun2019,jul2019,aug2019,sep2019, oct2019,nov2019,dec2019], axis = 0)\n",
    "df_2019 = df_2019.drop(columns = 'Birthdate')"
   ]
  },
  {
   "cell_type": "code",
   "execution_count": 21,
   "id": "d1abcdc4-6626-4f3d-8ba8-b516f1706bac",
   "metadata": {},
   "outputs": [],
   "source": [
    "jan2018 = pd.read_csv('./2018/tdor_2018_01.csv')\n",
    "feb2018 = pd.read_csv('./2018/tdor_2018_02.csv')\n",
    "mar2018 = pd.read_csv('./2018/tdor_2018_03.csv')\n",
    "apr2018 = pd.read_csv('./2018/tdor_2018_04.csv')\n",
    "may2018 = pd.read_csv('./2018/tdor_2018_05.csv')\n",
    "jun2018 = pd.read_csv('./2018/tdor_2018_06.csv')\n",
    "jul2018 = pd.read_csv('./2018/tdor_2018_07.csv')\n",
    "aug2018 = pd.read_csv('./2018/tdor_2018_08.csv')\n",
    "sep2018 = pd.read_csv('./2018/tdor_2018_09.csv')\n",
    "oct2018 = pd.read_csv('./2018/tdor_2018_10.csv')\n",
    "nov2018 = pd.read_csv('./2018/tdor_2018_11.csv')\n",
    "dec2018 = pd.read_csv('./2018/tdor_2018_12.csv')"
   ]
  },
  {
   "cell_type": "code",
   "execution_count": 22,
   "id": "2494fca5-08e4-4b57-b595-000ff70277c5",
   "metadata": {},
   "outputs": [],
   "source": [
    "feb2018 = feb2018.rename(columns = {'TDoR list ref':'Source ref'})\n",
    "mar2018 = mar2018.rename(columns = {'TDoR list ref':'Source ref'})\n",
    "nov2018 = nov2018.rename(columns = {'TDoR list ref':'Source ref'})\n",
    "feb2018 = feb2018.drop(columns = ['Address','Locality'])\n",
    "mar2018 = mar2018.drop(columns = ['Address','Locality'])\n",
    "nov2018 = nov2018.drop(columns = ['Address','Locality'])\n",
    "jan2018 = jan2018.rename(columns = {'Location':'Town/City/Municipality'})\n",
    "apr2018 = apr2018.rename(columns = {'Location':'Town/City/Municipality'})\n",
    "may2018 = may2018.rename(columns = {'Location':'Town/City/Municipality'})\n",
    "jun2018 = jun2018.rename(columns = {'Location':'Town/City/Municipality'})\n",
    "jul2018 = jul2018.rename(columns = {'Location':'Town/City/Municipality'})\n",
    "aug2018 = aug2018.rename(columns = {'Location':'Town/City/Municipality'})\n",
    "sep2018 = sep2018.rename(columns = {'Location':'Town/City/Municipality'})\n",
    "oct2018 = oct2018.rename(columns = {'Location':'Town/City/Municipality'})\n",
    "dec2018 = dec2018.rename(columns = {'Location':'Town/City/Municipality'})\n"
   ]
  },
  {
   "cell_type": "code",
   "execution_count": 23,
   "id": "dd097c8e-2eb0-43df-9ea7-ab89e0acc1f0",
   "metadata": {},
   "outputs": [],
   "source": [
    "jan2018 = jan2018.iloc[:33,:]\n",
    "feb2018 = feb2018.iloc[:42,:]\n",
    "mar2018 = mar2018.iloc[:44,:-1]\n",
    "apr2018 = apr2018.iloc[:31,:]\n",
    "may2018 = may2018.iloc[:25,:]\n",
    "jun2018 = jun2018.iloc[:37,:-1]\n",
    "jul2018 = jul2018.iloc[:28,:-1]\n",
    "aug2018 = aug2018.iloc[:39,:-1]\n",
    "sep2018 = sep2018.iloc[:31,:-1]\n",
    "oct2018 = oct2018.iloc[:32,:]\n",
    "nov2018 = nov2018.iloc[:21,:]\n",
    "dec2018 = dec2018.iloc[:29,:]"
   ]
  },
  {
   "cell_type": "code",
   "execution_count": 24,
   "id": "17601cf2-fb1c-4fb8-8fc6-dc7e63d33366",
   "metadata": {},
   "outputs": [],
   "source": [
    "df_2018 = pd.concat([jan2018,feb2018,mar2018,apr2018,may2018,jun2018,jul2018,aug2018,sep2018, oct2018,nov2018,dec2018], axis = 0)\n",
    "df_2018 = df_2018.drop(columns = 'Birthdate')"
   ]
  },
  {
   "cell_type": "code",
   "execution_count": 25,
   "id": "6ccc8347-658f-4691-8f6a-a7673b4aee3b",
   "metadata": {},
   "outputs": [],
   "source": [
    "jan2017 = pd.read_csv('./2017/tdor_2017_01.csv')\n",
    "feb2017 = pd.read_csv('./2017/tdor_2017_02.csv')\n",
    "mar2017 = pd.read_csv('./2017/tdor_2017_03.csv')\n",
    "apr2017 = pd.read_csv('./2017/tdor_2017_04.csv')\n",
    "may2017 = pd.read_csv('./2017/tdor_2017_05.csv')\n",
    "jun2017 = pd.read_csv('./2017/tdor_2017_06.csv')\n",
    "jul2017 = pd.read_csv('./2017/tdor_2017_07.csv')\n",
    "aug2017 = pd.read_csv('./2017/tdor_2017_08.csv')\n",
    "sep2017 = pd.read_csv('./2017/tdor_2017_09.csv')\n",
    "oct2017 = pd.read_csv('./2017/tdor_2017_10.csv')\n",
    "nov2017 = pd.read_csv('./2017/tdor_2017_11.csv')\n",
    "dec2017 = pd.read_csv('./2017/tdor_2017_12.csv')"
   ]
  },
  {
   "cell_type": "code",
   "execution_count": 26,
   "id": "304d5ffb-2751-4263-9505-3678254424db",
   "metadata": {},
   "outputs": [],
   "source": [
    "feb2017 = feb2017.rename(columns = {'TDoR list ref':'Source ref'})\n",
    "may2017 = may2017.rename(columns = {'TDoR list ref':'Source ref'})\n",
    "jul2017 = jul2017.rename(columns = {'TDoR list ref':'Source ref'})\n",
    "feb2017 = feb2017.drop(columns = ['Address','Locality'])\n",
    "may2017 = may2017.drop(columns = ['Address','Locality'])\n",
    "jul2017 = jul2017.drop(columns = ['Address','Locality'])\n",
    "jan2017 = jan2017.rename(columns = {'Location':'Town/City/Municipality'})\n",
    "mar2017 = mar2017.rename(columns = {'Location':'Town/City/Municipality'})\n",
    "apr2017 = apr2017.rename(columns = {'Location':'Town/City/Municipality'})\n",
    "jun2017 = jun2017.rename(columns = {'Location':'Town/City/Municipality'})\n",
    "aug2017 = aug2017.rename(columns = {'Location':'Town/City/Municipality'})\n",
    "sep2017 = sep2017.rename(columns = {'Location':'Town/City/Municipality'})\n",
    "oct2017 = oct2017.rename(columns = {'Location':'Town/City/Municipality'})\n",
    "nov2017 = nov2017.rename(columns = {'Location':'Town/City/Municipality'})\n",
    "dec2017 = dec2017.rename(columns = {'Location':'Town/City/Municipality'})"
   ]
  },
  {
   "cell_type": "code",
   "execution_count": 27,
   "id": "233ccf58-0aea-420e-9563-0d8f10e3a4fa",
   "metadata": {},
   "outputs": [],
   "source": [
    "jan2017 = jan2017.iloc[:30,:-1]\n",
    "feb2017 = feb2017.iloc[:45,:]\n",
    "mar2017 = mar2017.iloc[:25,:-1]\n",
    "apr2017 = apr2017.iloc[:33,:]\n",
    "may2017 = may2017.iloc[:31,:-1]\n",
    "jun2017 = jun2017.iloc[:31,:]\n",
    "jul2017 = jul2017.iloc[:34,:-1]\n",
    "aug2017 = aug2017.iloc[:31,:-1]\n",
    "sep2017 = sep2017.iloc[:33,:-1]\n",
    "oct2017 = oct2017.iloc[:41,:]\n",
    "nov2017 = nov2017.iloc[:37,:]\n",
    "dec2017 = dec2017.iloc[:35,:]"
   ]
  },
  {
   "cell_type": "code",
   "execution_count": 28,
   "id": "d732dd65-f3e6-40bc-8df8-714a03198532",
   "metadata": {},
   "outputs": [],
   "source": [
    "df_2017 = pd.concat([jan2017,feb2017,mar2017,apr2017,may2017,jun2017,jul2017,aug2017,sep2017, oct2017,nov2017,dec2017], axis = 0)\n",
    "df_2017 = df_2017.drop(columns = 'Birthdate')"
   ]
  },
  {
   "cell_type": "code",
   "execution_count": 29,
   "id": "42a7fc6a-14e0-42a6-8f34-b17479830309",
   "metadata": {},
   "outputs": [],
   "source": [
    "jan2016 = pd.read_csv('./2016/tdor_2016_01.csv')\n",
    "feb2016 = pd.read_csv('./2016/tdor_2016_02.csv')\n",
    "mar2016 = pd.read_csv('./2016/tdor_2016_03.csv')\n",
    "apr2016 = pd.read_csv('./2016/tdor_2016_04.csv')\n",
    "may2016 = pd.read_csv('./2016/tdor_2016_05.csv')\n",
    "jun2016 = pd.read_csv('./2016/tdor_2016_06.csv')\n",
    "jul2016 = pd.read_csv('./2016/tdor_2016_07.csv')\n",
    "aug2016 = pd.read_csv('./2016/tdor_2016_08.csv')\n",
    "sep2016 = pd.read_csv('./2016/tdor_2016_09.csv')\n",
    "oct2016 = pd.read_csv('./2016/tdor_2016_10.csv')\n",
    "nov2016 = pd.read_csv('./2016/tdor_2016_11.csv')\n",
    "dec2016 = pd.read_csv('./2016/tdor_2016_12.csv')"
   ]
  },
  {
   "cell_type": "code",
   "execution_count": 30,
   "id": "e059e35f-005e-4bfc-9500-35d28e14818c",
   "metadata": {},
   "outputs": [],
   "source": [
    "jan2016 = jan2016.iloc[:,:]\n",
    "feb2016 = feb2016.iloc[:,:]\n",
    "mar2016 = mar2016.iloc[:,:]\n",
    "apr2016 = apr2016.iloc[:18,:]\n",
    "may2016 = may2016.iloc[:,:]\n",
    "jun2016 = jun2016.iloc[:,:]\n",
    "jul2016 = jul2016.iloc[:,:-1]\n",
    "aug2016 = aug2016.iloc[:20,:-1]\n",
    "sep2016 = sep2016.iloc[:,:-1]\n",
    "oct2016 = oct2016.iloc[:,:]\n",
    "nov2016 = nov2016.iloc[:,:]\n",
    "dec2016 = dec2016.iloc[:24,:-1]"
   ]
  },
  {
   "cell_type": "code",
   "execution_count": 31,
   "id": "be446310-8b4e-45de-a956-92d41d7f627f",
   "metadata": {},
   "outputs": [],
   "source": [
    "feb2016 = feb2016.rename(columns = {'TDoR list ref':'Source ref'})\n",
    "jun2016 = jun2016.rename(columns = {'TDoR list ref':'Source ref'})\n",
    "oct2016 = oct2016.rename(columns = {'TDoR list ref':'Source ref'})\n",
    "dec2016 = dec2016.rename(columns = {'TDoR list ref':'Source ref'})\n",
    "jan2016 = jan2016.rename(columns = {'Location':'Town/City/Municipality'})\n",
    "mar2016 = mar2016.rename(columns = {'Location':'Town/City/Municipality'})\n",
    "apr2016 = apr2016.rename(columns = {'Location':'Town/City/Municipality'})\n",
    "may2016 = may2016.rename(columns = {'Location':'Town/City/Municipality'})\n",
    "jul2016 = jul2016.rename(columns = {'Location':'Town/City/Municipality'})\n",
    "aug2016 = aug2016.rename(columns = {'Location':'Town/City/Municipality'})\n",
    "sep2016 = sep2016.rename(columns = {'Location':'Town/City/Municipality'})\n",
    "oct2016 = oct2016.rename(columns = {'Location':'Town/City/Municipality'})\n",
    "nov2016 = nov2016.rename(columns = {'Location':'Town/City/Municipality'})\n",
    "feb2016 = feb2016.drop(columns = ['Address','Locality'])\n",
    "jun2016 = jun2016.drop(columns = ['Address','Locality'])\n",
    "dec2016 = dec2016.drop(columns = ['Address','Locality'])\n"
   ]
  },
  {
   "cell_type": "code",
   "execution_count": 32,
   "id": "569a89a1-36d5-4869-8a10-fd5602199eb9",
   "metadata": {},
   "outputs": [],
   "source": [
    "df_2016 = pd.concat([jan2016,feb2016,mar2016,apr2016,may2016,jun2016,jul2016,aug2016,sep2016, oct2016,nov2016,dec2016], axis = 0)\n",
    "df_2016 = df_2016.drop(columns = 'Birthdate')"
   ]
  },
  {
   "cell_type": "code",
   "execution_count": 33,
   "id": "4fc88d39-7b91-4843-8f49-f3d37824039c",
   "metadata": {},
   "outputs": [],
   "source": [
    "jan2015 = pd.read_csv('./2015/tdor_2015_01.csv')\n",
    "feb2015 = pd.read_csv('./2015/tdor_2015_02.csv')\n",
    "mar2015 = pd.read_csv('./2015/tdor_2015_03.csv')\n",
    "apr2015 = pd.read_csv('./2015/tdor_2015_04.csv')\n",
    "may2015 = pd.read_csv('./2015/tdor_2015_05.csv')\n",
    "jun2015 = pd.read_csv('./2015/tdor_2015_06.csv')\n",
    "jul2015 = pd.read_csv('./2015/tdor_2015_07.csv')\n",
    "aug2015 = pd.read_csv('./2015/tdor_2015_08.csv')\n",
    "sep2015 = pd.read_csv('./2015/tdor_2015_09.csv')\n",
    "oct2015 = pd.read_csv('./2015/tdor_2015_10.csv')\n",
    "nov2015 = pd.read_csv('./2015/tdor_2015_11.csv')\n",
    "dec2015 = pd.read_csv('./2015/tdor_2015_12.csv')"
   ]
  },
  {
   "cell_type": "code",
   "execution_count": 34,
   "id": "1d96bdb6-cf2a-46a9-a5c9-e735a0994004",
   "metadata": {},
   "outputs": [],
   "source": [
    "jan2015 = jan2015.iloc[:29,:]\n",
    "feb2015 = feb2015.iloc[:30,:]\n",
    "mar2015 = mar2015.iloc[:25,:]\n",
    "apr2015 = apr2015.iloc[:21,:]\n",
    "may2015 = may2015.iloc[:19,:]\n",
    "jun2015 = jun2015.iloc[:17,:]\n",
    "jul2015 = jul2015.iloc[:36,:]\n",
    "aug2015 = aug2015.iloc[:11,:]\n",
    "sep2015 = sep2015.iloc[:11,:]\n",
    "oct2015 = oct2015.iloc[:23,:]\n",
    "nov2015 = nov2015.iloc[:17,:]\n",
    "dec2015 = dec2015.iloc[:22,:]"
   ]
  },
  {
   "cell_type": "code",
   "execution_count": 35,
   "id": "12396636-6800-4e81-a570-2d03c261ac87",
   "metadata": {},
   "outputs": [],
   "source": [
    "df_2015 = pd.concat([jan2015,feb2015,mar2015,apr2015,may2015,jun2015,jul2015,aug2015,sep2015, oct2015,nov2015,dec2015], axis = 0)\n",
    "df_2015 = df_2015.drop(columns = 'Birthdate')\n",
    "df_2015 = df_2015.rename(columns = {'Location':'Town/City/Municipality'})"
   ]
  },
  {
   "cell_type": "code",
   "execution_count": 36,
   "id": "5be304b5-f37d-4852-847d-9161aab89ec2",
   "metadata": {},
   "outputs": [],
   "source": [
    "jan2014 = pd.read_csv('./2014/tdor_2014_01.csv')\n",
    "feb2014 = pd.read_csv('./2014/tdor_2014_02.csv')\n",
    "mar2014 = pd.read_csv('./2014/tdor_2014_03.csv')\n",
    "apr2014 = pd.read_csv('./2014/tdor_2014_04.csv')\n",
    "may2014 = pd.read_csv('./2014/tdor_2014_05.csv')\n",
    "jun2014 = pd.read_csv('./2014/tdor_2014_06.csv')\n",
    "jul2014 = pd.read_csv('./2014/tdor_2014_07.csv')\n",
    "aug2014 = pd.read_csv('./2014/tdor_2014_08.csv')\n",
    "sep2014 = pd.read_csv('./2014/tdor_2014_09.csv')\n",
    "oct2014 = pd.read_csv('./2014/tdor_2014_10.csv')\n",
    "nov2014 = pd.read_csv('./2014/tdor_2014_11.csv')\n",
    "dec2014 = pd.read_csv('./2014/tdor_2014_12.csv')"
   ]
  },
  {
   "cell_type": "code",
   "execution_count": 37,
   "id": "564a5f3d-dd38-4d9c-b441-20636c402bec",
   "metadata": {},
   "outputs": [],
   "source": [
    "jan2014 = jan2014.iloc[:34,:]\n",
    "feb2014 = feb2014.iloc[:24,:]\n",
    "mar2014 = mar2014.iloc[:26,:]\n",
    "apr2014 = apr2014.iloc[:15,:]\n",
    "may2014 = may2014.iloc[:17,:]\n",
    "jun2014 = jun2014.iloc[:17,:]\n",
    "jul2014 = jul2014.iloc[:18,:]\n",
    "aug2014 = aug2014.iloc[:9,:]\n",
    "sep2014 = sep2014.iloc[:16,:]\n",
    "oct2014 = oct2014.iloc[:27,:]\n",
    "nov2014 = nov2014.iloc[:28,:]\n",
    "dec2014 = dec2014.iloc[:28,:]"
   ]
  },
  {
   "cell_type": "code",
   "execution_count": 38,
   "id": "ec5ac94b-6128-4786-86aa-aa41be75ae18",
   "metadata": {},
   "outputs": [],
   "source": [
    "jun2014 = jun2014.rename(columns = {'TDoR list ref':'Source ref'})\n",
    "aug2014 = aug2014.rename(columns = {'TDoR list ref':'Source ref'})\n",
    "jan2014 = jan2014.rename(columns = {'Location':'Town/City/Municipality'})\n",
    "feb2014 = feb2014.rename(columns = {'Location':'Town/City/Municipality'})\n",
    "mar2014 = mar2014.rename(columns = {'Location':'Town/City/Municipality'})\n",
    "mar2014['Tweet']=mar2014['Description']\n",
    "apr2014 = apr2014.rename(columns = {'Location':'Town/City/Municipality'})\n",
    "may2014 = may2014.rename(columns = {'Location':'Town/City/Municipality'})\n",
    "jul2014 = jul2014.rename(columns = {'Location':'Town/City/Municipality'})\n",
    "sep2014 = sep2014.rename(columns = {'Location':'Town/City/Municipality'})\n",
    "oct2014 = oct2014.rename(columns = {'Location':'Town/City/Municipality'})\n",
    "nov2014 = nov2014.rename(columns = {'Location':'Town/City/Municipality'})\n",
    "dec2014 = dec2014.rename(columns = {'Location':'Town/City/Municipality'})\n",
    "jun2014 = jun2014.drop(columns = ['Address','Locality'])\n",
    "aug2014 = aug2014.drop(columns = ['Address','Locality'])"
   ]
  },
  {
   "cell_type": "code",
   "execution_count": 39,
   "id": "46c8f3ed-a2fe-415c-b0d2-ea04a6daf192",
   "metadata": {},
   "outputs": [],
   "source": [
    "df_2014 = pd.concat([jan2014,feb2014,mar2014,apr2014,may2014,jun2014,jul2014,aug2014,sep2014, oct2014,nov2014,dec2014], axis = 0)\n",
    "df_2014 = df_2014.drop(columns = 'Birthdate')"
   ]
  },
  {
   "cell_type": "code",
   "execution_count": 40,
   "id": "8a6a0d9e-6055-4327-ae15-d7719ab89f73",
   "metadata": {},
   "outputs": [],
   "source": [
    "jan2013 = pd.read_csv('./2013/tdor_2013_01.csv')\n",
    "feb2013 = pd.read_csv('./2013/tdor_2013_02.csv')\n",
    "mar2013 = pd.read_csv('./2013/tdor_2013_03.csv')\n",
    "apr2013 = pd.read_csv('./2013/tdor_2013_04.csv')\n",
    "may2013 = pd.read_csv('./2013/tdor_2013_05.csv')\n",
    "jun2013 = pd.read_csv('./2013/tdor_2013_06.csv')\n",
    "jul2013 = pd.read_csv('./2013/tdor_2013_07.csv')\n",
    "aug2013 = pd.read_csv('./2013/tdor_2013_08.csv')\n",
    "sep2013 = pd.read_csv('./2013/tdor_2013_09.csv')\n",
    "oct2013 = pd.read_csv('./2013/tdor_2013_10.csv')\n",
    "nov2013 = pd.read_csv('./2013/tdor_2013_11.csv')\n",
    "dec2013 = pd.read_csv('./2013/tdor_2013_12.csv')"
   ]
  },
  {
   "cell_type": "code",
   "execution_count": 41,
   "id": "ab9a8cf2-23c1-470d-924c-8d005d7be735",
   "metadata": {},
   "outputs": [],
   "source": [
    "jan2013 = jan2013.iloc[:34,:]\n",
    "feb2013 = feb2013.iloc[:25,:]\n",
    "mar2013 = mar2013.iloc[:17,:]\n",
    "apr2013 = apr2013.iloc[:17,:]\n",
    "may2013 = may2013.iloc[:20,:]\n",
    "jun2013 = jun2013.iloc[:15,:]\n",
    "jul2013 = jul2013.iloc[:32,:]\n",
    "aug2013 = aug2013.iloc[:20,:]\n",
    "sep2013 = sep2013.iloc[:24,:]\n",
    "oct2013 = oct2013.iloc[:23,:]\n",
    "nov2013 = nov2013.iloc[:13,:]\n",
    "dec2013 = dec2013.iloc[:20,:]"
   ]
  },
  {
   "cell_type": "code",
   "execution_count": 42,
   "id": "6b6b9a16-bc1d-4bf3-ac0d-e65e47e7a653",
   "metadata": {},
   "outputs": [],
   "source": [
    "jan2013 = jan2013.rename(columns = {'TDoR list ref':'Source ref'})\n",
    "mar2013 = mar2013.rename(columns = {'TDoR list ref':'Source ref'})\n",
    "may2013 = may2013.rename(columns = {'TDoR list ref':'Source ref'})\n",
    "dec2013 = dec2013.rename(columns = {'TDoR list ref':'Source ref'})\n",
    "feb2013 = feb2013.rename(columns = {'Location':'Town/City/Municipality'})\n",
    "apr2013 = apr2013.rename(columns = {'Location':'Town/City/Municipality'})\n",
    "jun2013 = jun2013.rename(columns = {'Location':'Town/City/Municipality'})\n",
    "jul2013 = jul2013.rename(columns = {'Location':'Town/City/Municipality'})\n",
    "aug2013 = aug2013.rename(columns = {'Location':'Town/City/Municipality'})\n",
    "sep2013 = sep2013.rename(columns = {'Location':'Town/City/Municipality'})\n",
    "oct2013 = oct2013.rename(columns = {'Location':'Town/City/Municipality'})\n",
    "nov2013 = nov2013.rename(columns = {'Location':'Town/City/Municipality'})\n",
    "jan2013 = jan2013.drop(columns = ['Address','Locality'])\n",
    "mar2013 = mar2013.drop(columns = ['Address','Locality'])\n",
    "may2013 = may2013.drop(columns = ['Address','Locality'])\n",
    "dec2013 = dec2013.drop(columns = ['Address','Locality'])\n",
    "apr2013['Tweet']=apr2013['Description']\n"
   ]
  },
  {
   "cell_type": "code",
   "execution_count": 43,
   "id": "43319742-d707-4356-8d59-20693078277f",
   "metadata": {},
   "outputs": [],
   "source": [
    "df_2013 = pd.concat([jan2013,feb2013,mar2013,apr2013,may2013,jun2013,jul2013,aug2013,sep2013,oct2013,nov2013,dec2013], axis = 0)\n",
    "df_2013 = df_2013.drop(columns = 'Birthdate')"
   ]
  },
  {
   "cell_type": "code",
   "execution_count": 44,
   "id": "eaa3aef9-b87d-43ef-a214-05f91d0fe245",
   "metadata": {},
   "outputs": [],
   "source": [
    "jan2012 = pd.read_csv('./2012/tdor_2012_01.csv')\n",
    "feb2012 = pd.read_csv('./2012/tdor_2012_02.csv')\n",
    "mar2012 = pd.read_csv('./2012/tdor_2012_03.csv')\n",
    "apr2012 = pd.read_csv('./2012/tdor_2012_04.csv')\n",
    "may2012 = pd.read_csv('./2012/tdor_2012_05.csv')\n",
    "jun2012 = pd.read_csv('./2012/tdor_2012_06.csv')\n",
    "jul2012 = pd.read_csv('./2012/tdor_2012_07.csv')\n",
    "aug2012 = pd.read_csv('./2012/tdor_2012_08.csv')\n",
    "sep2012 = pd.read_csv('./2012/tdor_2012_09.csv')\n",
    "oct2012 = pd.read_csv('./2012/tdor_2012_10.csv')\n",
    "nov2012 = pd.read_csv('./2012/tdor_2012_11.csv')\n",
    "dec2012 = pd.read_csv('./2012/tdor_2012_12.csv')"
   ]
  },
  {
   "cell_type": "code",
   "execution_count": 45,
   "id": "fc3bb206-3f02-473a-af77-e374a6d96a68",
   "metadata": {},
   "outputs": [],
   "source": [
    "jan2012 = jan2012.iloc[:23,:17]\n",
    "feb2012 = feb2012.iloc[:19,:]\n",
    "mar2012 = mar2012.iloc[:29,:17]\n",
    "apr2012 = apr2012.iloc[:27,:-1]\n",
    "may2012 = may2012.iloc[:23,:-1]\n",
    "jun2012 = jun2012.iloc[:22,:]\n",
    "jul2012 = jul2012.iloc[:17,:17]\n",
    "aug2012 = aug2012.iloc[:25,:]\n",
    "sep2012 = sep2012.iloc[:31,:]\n",
    "oct2012 = oct2012.iloc[:27,:]\n",
    "nov2012 = nov2012.iloc[:13,:]\n",
    "dec2012 = dec2012.iloc[:20,:]"
   ]
  },
  {
   "cell_type": "code",
   "execution_count": 46,
   "id": "fa21d1f4-b436-4669-bb38-8b11f3f684f5",
   "metadata": {},
   "outputs": [],
   "source": [
    "df_2012 = pd.concat([jan2012,feb2012,mar2012,apr2012,may2012,jun2012,jul2012,aug2012,sep2012,oct2012,nov2012,dec2012], axis = 0)\n",
    "df_2012 = df_2012.drop(columns = 'Birthdate')\n",
    "df_2012 = df_2012.rename(columns = {'Location':'Town/City/Municipality'})"
   ]
  },
  {
   "cell_type": "code",
   "execution_count": 47,
   "id": "3cc6f971-4f70-4c14-ade5-3b1d497d08ec",
   "metadata": {},
   "outputs": [],
   "source": [
    "jan2011 = pd.read_csv('./2011/tdor_2011_01.csv')\n",
    "feb2011 = pd.read_csv('./2011/tdor_2011_02.csv')\n",
    "mar2011 = pd.read_csv('./2011/tdor_2011_03.csv')\n",
    "apr2011 = pd.read_csv('./2011/tdor_2011_04.csv')\n",
    "may2011 = pd.read_csv('./2011/tdor_2011_05.csv')\n",
    "jun2011 = pd.read_csv('./2011/tdor_2011_06.csv')\n",
    "jul2011 = pd.read_csv('./2011/tdor_2011_07.csv')\n",
    "aug2011 = pd.read_csv('./2011/tdor_2011_08.csv')\n",
    "sep2011 = pd.read_csv('./2011/tdor_2011_09.csv')\n",
    "oct2011 = pd.read_csv('./2011/tdor_2011_10.csv')\n",
    "nov2011 = pd.read_csv('./2011/tdor_2011_11.csv')\n",
    "dec2011 = pd.read_csv('./2011/tdor_2011_12.csv')"
   ]
  },
  {
   "cell_type": "code",
   "execution_count": 48,
   "id": "8dab9880-95b2-4808-8665-eedc0827696b",
   "metadata": {},
   "outputs": [],
   "source": [
    "jan2011 = jan2011.iloc[:27,:]\n",
    "feb2011 = feb2011.iloc[:24,:]\n",
    "mar2011 = mar2011.iloc[:26,:]\n",
    "apr2011 = apr2011.iloc[:18,:]\n",
    "may2011 = may2011.iloc[:16,:]\n",
    "jun2011 = jun2011.iloc[:13,:]\n",
    "jul2011 = jul2011.iloc[:11,:]\n",
    "aug2011 = aug2011.iloc[:12,:]\n",
    "sep2011 = sep2011.iloc[:17,:]\n",
    "oct2011 = oct2011.iloc[:26,:]\n",
    "nov2011 = nov2011.iloc[:19,:17]\n",
    "dec2011 = dec2011.iloc[:22,:]"
   ]
  },
  {
   "cell_type": "code",
   "execution_count": 49,
   "id": "bd29b25e-34bd-4515-a182-ed9f6bb1c746",
   "metadata": {},
   "outputs": [],
   "source": [
    "oct2011 = oct2011.rename(columns = {'TDoR list ref':'Source ref'})\n",
    "oct2011 = oct2011.drop(columns = ['Address','Locality'])\n",
    "dec2011['Tweet']=dec2011['Description']\n",
    "oct2011 = oct2011.rename(columns = {'Town/City/Municipality':'Location'})"
   ]
  },
  {
   "cell_type": "code",
   "execution_count": 50,
   "id": "13eab026-29c9-4cb8-beaa-b087d7b560a0",
   "metadata": {},
   "outputs": [],
   "source": [
    "df_2011 = pd.concat([jan2011,feb2011,mar2011,apr2011,may2011,jun2011,jul2011,aug2011,sep2011,oct2011,nov2011,dec2011], axis = 0)\n",
    "df_2011 = df_2011.drop(columns = 'Birthdate')\n",
    "df_2011 = df_2011.rename(columns = {'Location':'Town/City/Municipality'})"
   ]
  },
  {
   "cell_type": "code",
   "execution_count": 51,
   "id": "6499ec11-c4e2-4d8b-8181-a38dc66f0084",
   "metadata": {},
   "outputs": [],
   "source": [
    "jan2010 = pd.read_csv('./2010/tdor_2010_01.csv')\n",
    "feb2010 = pd.read_csv('./2010/tdor_2010_02.csv')\n",
    "mar2010 = pd.read_csv('./2010/tdor_2010_03.csv')\n",
    "apr2010 = pd.read_csv('./2010/tdor_2010_04.csv')\n",
    "may2010 = pd.read_csv('./2010/tdor_2010_05.csv')\n",
    "jun2010 = pd.read_csv('./2010/tdor_2010_06.csv')\n",
    "jul2010 = pd.read_csv('./2010/tdor_2010_07.csv')\n",
    "aug2010 = pd.read_csv('./2010/tdor_2010_08.csv')\n",
    "sep2010 = pd.read_csv('./2010/tdor_2010_09.csv')\n",
    "oct2010 = pd.read_csv('./2010/tdor_2010_10.csv')\n",
    "nov2010 = pd.read_csv('./2010/tdor_2010_11.csv')\n",
    "dec2010 = pd.read_csv('./2010/tdor_2010_12.csv')"
   ]
  },
  {
   "cell_type": "code",
   "execution_count": 52,
   "id": "2b949480-b799-42bd-b0ef-4d7e7b754914",
   "metadata": {},
   "outputs": [],
   "source": [
    "jan2010 = jan2010.iloc[:14,:]\n",
    "feb2010 = feb2010.iloc[:10,:]\n",
    "mar2010 = mar2010.iloc[:29,:-2]\n",
    "apr2010 = apr2010.iloc[:15:]\n",
    "may2010 = may2010.iloc[:20,:]\n",
    "jun2010 = jun2010.iloc[:9,:]\n",
    "jul2010 = jul2010.iloc[:12,:]\n",
    "aug2010 = aug2010.iloc[:10,:17]\n",
    "sep2010 = sep2010.iloc[:12,:]\n",
    "oct2010 = oct2010.iloc[:15,:]\n",
    "nov2010 = nov2010.iloc[:17,:]\n",
    "dec2010 = dec2010.iloc[:22,:]"
   ]
  },
  {
   "cell_type": "code",
   "execution_count": 53,
   "id": "81ebea58-1087-47cd-b434-b995996637bb",
   "metadata": {},
   "outputs": [],
   "source": [
    "jun2010 = jun2010.drop(columns = ['Address','Locality'])\n",
    "jun2010['Tweet']=jun2010['Description']\n",
    "jul2010['Tweet']=jul2010['Description']\n",
    "nov2010['Tweet']=nov2010['Description']\n",
    "dec2010['Birthdate']=dec2010['Age']\n",
    "jun2010 = jun2010.rename(columns = {'TDoR list ref':'Source ref'})\n",
    "jun2010 = jun2010.rename(columns = {'Town/City/Municipality':'Location'})"
   ]
  },
  {
   "cell_type": "code",
   "execution_count": 54,
   "id": "bcc1965c-b272-421a-ae7d-acd992d7d473",
   "metadata": {},
   "outputs": [],
   "source": [
    "df_2010 = pd.concat([jan2010,feb2010,mar2010,apr2010,may2010,jun2010,jul2010,aug2010,sep2010,oct2010,nov2010,dec2010], axis = 0)\n",
    "df_2010 = df_2010.drop(columns = 'Birthdate')\n",
    "df_2010 = df_2010.rename(columns = {'Location':'Town/City/Municipality'})"
   ]
  },
  {
   "cell_type": "code",
   "execution_count": 55,
   "id": "b3fe8b65-749b-42b4-a59b-f50acf505ce0",
   "metadata": {},
   "outputs": [],
   "source": [
    "jan2009 = pd.read_csv('./2009/tdor_2009_01.csv')\n",
    "feb2009 = pd.read_csv('./2009/tdor_2009_02.csv')\n",
    "mar2009 = pd.read_csv('./2009/tdor_2009_03.csv')\n",
    "apr2009 = pd.read_csv('./2009/tdor_2009_04.csv')\n",
    "may2009 = pd.read_csv('./2009/tdor_2009_05.csv')\n",
    "jun2009 = pd.read_csv('./2009/tdor_2009_06.csv')\n",
    "jul2009 = pd.read_csv('./2009/tdor_2009_07.csv')\n",
    "aug2009 = pd.read_csv('./2009/tdor_2009_08.csv')\n",
    "sep2009 = pd.read_csv('./2009/tdor_2009_09.csv')\n",
    "oct2009 = pd.read_csv('./2009/tdor_2009_10.csv')\n",
    "nov2009 = pd.read_csv('./2009/tdor_2009_11.csv')\n",
    "dec2009 = pd.read_csv('./2009/tdor_2009_12.csv')"
   ]
  },
  {
   "cell_type": "code",
   "execution_count": 56,
   "id": "10ab257f-cd9b-4a6c-8315-a1c17ba3ab15",
   "metadata": {},
   "outputs": [],
   "source": [
    "jan2009 = jan2009.iloc[:18,:]\n",
    "feb2009 = feb2009.iloc[:10,:]\n",
    "mar2009 = mar2009.iloc[:15,:17]\n",
    "apr2009 = apr2009.iloc[:8:]\n",
    "may2009 = may2009.iloc[:39,:]\n",
    "jun2009 = jun2009.iloc[:16,:]\n",
    "jul2009 = jul2009.iloc[:13,:]\n",
    "aug2009 = aug2009.iloc[:8,:]\n",
    "sep2009 = sep2009.iloc[:7,:17]\n",
    "oct2009 = oct2009.iloc[:19,:17]\n",
    "nov2009 = nov2009.iloc[:18,:17]\n",
    "dec2009 = dec2009.iloc[:21,:]"
   ]
  },
  {
   "cell_type": "code",
   "execution_count": 57,
   "id": "e38d9702-3976-456a-8b8b-2919ba7d3448",
   "metadata": {},
   "outputs": [],
   "source": [
    "apr2009 = apr2009.drop(columns = ['Address','Locality'])\n",
    "aug2009 = aug2009.drop(columns = ['Address','Locality'])\n",
    "apr2009 = apr2009.rename(columns = {'TDoR list ref':'Source ref'})\n",
    "aug2009 = aug2009.rename(columns = {'TDoR list ref':'Source ref'})\n",
    "apr2009 = apr2009.rename(columns = {'Town/City/Municipality':'Location'})\n",
    "aug2009 = aug2009.rename(columns = {'Town/City/Municipality':'Location'})"
   ]
  },
  {
   "cell_type": "code",
   "execution_count": 58,
   "id": "d555b88e-a507-4877-a993-6288e30b5324",
   "metadata": {},
   "outputs": [],
   "source": [
    "df_2009 = pd.concat([jan2009,feb2009,mar2009,apr2009,may2009,jun2009,jul2009,aug2009,sep2009,oct2009,nov2009,dec2009], axis = 0)\n",
    "df_2009 = df_2009.drop(columns = 'Birthdate')\n",
    "df_2009 = df_2009.rename(columns = {'Location':'Town/City/Municipality'})"
   ]
  },
  {
   "cell_type": "code",
   "execution_count": 59,
   "id": "7b81f3df-4978-4de0-b730-295d4c8ef0f2",
   "metadata": {},
   "outputs": [],
   "source": [
    "jan2008 = pd.read_csv('./2008/tdor_2008_01.csv')\n",
    "feb2008 = pd.read_csv('./2008/tdor_2008_02.csv')\n",
    "mar2008 = pd.read_csv('./2008/tdor_2008_03.csv')\n",
    "apr2008 = pd.read_csv('./2008/tdor_2008_04.csv')\n",
    "may2008 = pd.read_csv('./2008/tdor_2008_05.csv')\n",
    "jun2008 = pd.read_csv('./2008/tdor_2008_06.csv')\n",
    "jul2008 = pd.read_csv('./2008/tdor_2008_07.csv')\n",
    "aug2008 = pd.read_csv('./2008/tdor_2008_08.csv')\n",
    "sep2008 = pd.read_csv('./2008/tdor_2008_09.csv')\n",
    "oct2008 = pd.read_csv('./2008/tdor_2008_10.csv')\n",
    "nov2008 = pd.read_csv('./2008/tdor_2008_11.csv')\n",
    "dec2008 = pd.read_csv('./2008/tdor_2008_12.csv')"
   ]
  },
  {
   "cell_type": "code",
   "execution_count": 60,
   "id": "3f7521c8-8fc2-4739-aa6a-5b46e0e4d5c1",
   "metadata": {},
   "outputs": [],
   "source": [
    "jan2008 = jan2008.iloc[:4,:17]\n",
    "feb2008 = feb2008.iloc[:7,:17]\n",
    "apr2008 = apr2008.iloc[:1,:17]\n",
    "may2008 = may2008.iloc[:1,:17]\n",
    "jun2008 = jun2008.iloc[:1,:17]\n",
    "jul2008 = jul2008.iloc[:8,:17]\n",
    "aug2008 = aug2008.iloc[:1,:17]\n",
    "sep2008 = sep2008.iloc[:1,:17]\n",
    "oct2008 = oct2008.iloc[:,:]\n",
    "nov2008 = nov2008.iloc[:13,:17]\n",
    "dec2008 = dec2008.iloc[:,:]"
   ]
  },
  {
   "cell_type": "code",
   "execution_count": 61,
   "id": "5ef070e0-1439-4f57-8002-ecf3b4a58671",
   "metadata": {},
   "outputs": [],
   "source": [
    "dec2008 = dec2008.drop(columns = ['Address','Locality'])\n",
    "dec2008 = dec2008.rename(columns = {'TDoR list ref':'Source ref'})\n",
    "dec2008 = dec2008.rename(columns = {'Town/City/Municipality':'Location'})\n"
   ]
  },
  {
   "cell_type": "code",
   "execution_count": 62,
   "id": "0c3639cd-d7db-4690-bb8f-90ed31ec6212",
   "metadata": {},
   "outputs": [],
   "source": [
    "df_2008 = pd.concat([jan2008,feb2008,apr2008,may2008,jun2008,jul2008,aug2008,sep2008,oct2008,nov2008,dec2008], axis = 0)\n",
    "df_2008 = df_2008.rename(columns = {'Location':'Town/City/Municipality'})\n",
    "df_2008= df_2008.drop(columns = 'Birthdate')\n"
   ]
  },
  {
   "cell_type": "code",
   "execution_count": 63,
   "id": "bf238693-b7ed-4969-b662-7a3e1088d7f0",
   "metadata": {},
   "outputs": [],
   "source": [
    "jan2007 = pd.read_csv('./2007/tdor_2007_01.csv')\n",
    "feb2007 = pd.read_csv('./2007/tdor_2007_02.csv')\n",
    "mar2007 = pd.read_csv('./2007/tdor_2007_03.csv')\n",
    "apr2007 = pd.read_csv('./2007/tdor_2007_04.csv')\n",
    "may2007 = pd.read_csv('./2007/tdor_2007_05.csv')\n",
    "jun2007 = pd.read_csv('./2007/tdor_2007_06.csv')\n",
    "jul2007 = pd.read_csv('./2007/tdor_2007_07.csv')\n",
    "aug2007 = pd.read_csv('./2007/tdor_2007_08.csv')\n",
    "sep2007 = pd.read_csv('./2007/tdor_2007_09.csv')\n",
    "oct2007 = pd.read_csv('./2007/tdor_2007_10.csv')\n",
    "nov2007 = pd.read_csv('./2007/tdor_2007_11.csv')\n",
    "dec2007 = pd.read_csv('./2007/tdor_2007_12.csv')"
   ]
  },
  {
   "cell_type": "code",
   "execution_count": 64,
   "id": "df3abff1-6b4e-4662-950b-5268b0bc159e",
   "metadata": {},
   "outputs": [],
   "source": [
    "jan2007 = jan2007.iloc[:,:]\n",
    "feb2007 = feb2007.iloc[:,:]\n",
    "mar2007 = mar2007.iloc[:,:]\n",
    "apr2007 = apr2007.iloc[:,:]\n",
    "jul2007 = jul2007.iloc[:,:]\n",
    "aug2007 = aug2007.iloc[:,:]\n",
    "sep2007 = sep2007.iloc[:1,:]\n",
    "nov2007 = nov2007.iloc[:4,:17]\n",
    "dec2007 = dec2007.iloc[:2,:17]"
   ]
  },
  {
   "cell_type": "code",
   "execution_count": 65,
   "id": "b8341c43-9089-4199-8095-c3220088d4fb",
   "metadata": {},
   "outputs": [],
   "source": [
    "jan2007 = jan2007.drop(columns = ['Address','Locality'])\n",
    "feb2007 = feb2007.drop(columns = ['Address','Locality'])\n",
    "mar2007 = mar2007.drop(columns = ['Address','Locality'])\n",
    "apr2007 = apr2007.drop(columns = ['Address','Locality'])\n",
    "jul2007 = jul2007.drop(columns = ['Address','Locality'])\n",
    "aug2007 = aug2007.drop(columns = ['Address','Locality'])\n",
    "dec2007 = dec2007.rename(columns = {'Tweets':'Tweet'})\n",
    "sep2007 = sep2007.rename(columns = {'Location':'Town/City/Municipality'})\n",
    "nov2007 = nov2007.rename(columns = {'Location':'Town/City/Municipality'})\n",
    "dec2007 = dec2007.rename(columns = {'Location':'Town/City/Municipality'})\n",
    "sep2007 = sep2007.rename(columns = {'Source ref':'TDoR list ref'})\n",
    "nov2007 = nov2007.rename(columns = {'Source ref':'TDoR list ref'})\n",
    "dec2007 = dec2007.rename(columns = {'Source ref':'TDoR list ref'})\n"
   ]
  },
  {
   "cell_type": "code",
   "execution_count": 66,
   "id": "2ece6859-3967-43e7-bf24-5873cc97b6c1",
   "metadata": {},
   "outputs": [],
   "source": [
    "df_2007 = pd.concat([jan2007,feb2007,mar2007,apr2007,jul2007,aug2007,sep2007,nov2007,dec2007], axis = 0)\n",
    "df_2007 = df_2007.rename(columns = {'TDoR list ref':'Source ref'})\n",
    "df_2007= df_2007.drop(columns = 'Birthdate')\n"
   ]
  },
  {
   "cell_type": "code",
   "execution_count": 67,
   "id": "0fe521b4-ad2f-49e1-81b4-85891137b959",
   "metadata": {},
   "outputs": [],
   "source": [
    "tdor = pd.concat([df_2022, df_2021, df_2020, df_2019, df_2018, df_2017, df_2016, df_2015, df_2014, df_2013, df_2012, df_2011, df_2010, df_2009, df_2008, df_2007], axis = 0)"
   ]
  },
  {
   "cell_type": "code",
   "execution_count": 68,
   "id": "bcd65d09-ee7d-40dd-a4c9-fbecf7432aa6",
   "metadata": {},
   "outputs": [
    {
     "data": {
      "text/plain": [
       "(4420, 16)"
      ]
     },
     "execution_count": 68,
     "metadata": {},
     "output_type": "execute_result"
    }
   ],
   "source": [
    "tdor.shape"
   ]
  },
  {
   "cell_type": "code",
   "execution_count": 69,
   "id": "10d748ac-117f-492d-9e2b-cd73d3589552",
   "metadata": {},
   "outputs": [
    {
     "data": {
      "text/plain": [
       "Name                        11\n",
       "Age                       1377\n",
       "Photo                     2360\n",
       "Photo source              2518\n",
       "Date                        11\n",
       "Source ref                 493\n",
       "Town/City/Municipality     330\n",
       "State/Province             328\n",
       "Country                     11\n",
       "Latitude                    12\n",
       "Longitude                   12\n",
       "Category                    12\n",
       "Cause of death              11\n",
       "Description                 14\n",
       "Tweet                     2226\n",
       "Permalink                   11\n",
       "dtype: int64"
      ]
     },
     "execution_count": 69,
     "metadata": {},
     "output_type": "execute_result"
    }
   ],
   "source": [
    "tdor.isna().sum()"
   ]
  },
  {
   "cell_type": "code",
   "execution_count": 70,
   "id": "f09b8a83-5288-4653-a92c-51dafe1401c9",
   "metadata": {},
   "outputs": [
    {
     "data": {
      "text/plain": [
       "'/Users/ranyasatkuna/Documents/DSIR 1010/Projects/capstone/Data/original_data'"
      ]
     },
     "execution_count": 70,
     "metadata": {},
     "output_type": "execute_result"
    }
   ],
   "source": [
    "os.getcwd()"
   ]
  },
  {
   "cell_type": "code",
   "execution_count": 71,
   "id": "aa330984-b7c9-42a9-aad7-5915ba437bd4",
   "metadata": {},
   "outputs": [
    {
     "data": {
      "text/html": [
       "<div>\n",
       "<style scoped>\n",
       "    .dataframe tbody tr th:only-of-type {\n",
       "        vertical-align: middle;\n",
       "    }\n",
       "\n",
       "    .dataframe tbody tr th {\n",
       "        vertical-align: top;\n",
       "    }\n",
       "\n",
       "    .dataframe thead th {\n",
       "        text-align: right;\n",
       "    }\n",
       "</style>\n",
       "<table border=\"1\" class=\"dataframe\">\n",
       "  <thead>\n",
       "    <tr style=\"text-align: right;\">\n",
       "      <th></th>\n",
       "      <th>Name</th>\n",
       "      <th>Age</th>\n",
       "      <th>Photo</th>\n",
       "      <th>Photo source</th>\n",
       "      <th>Date</th>\n",
       "      <th>Source ref</th>\n",
       "      <th>Town/City/Municipality</th>\n",
       "      <th>State/Province</th>\n",
       "      <th>Country</th>\n",
       "      <th>Latitude</th>\n",
       "      <th>Longitude</th>\n",
       "      <th>Category</th>\n",
       "      <th>Cause of death</th>\n",
       "      <th>Description</th>\n",
       "      <th>Tweet</th>\n",
       "      <th>Permalink</th>\n",
       "    </tr>\n",
       "  </thead>\n",
       "  <tbody>\n",
       "    <tr>\n",
       "      <th>0</th>\n",
       "      <td>Amarey Lej (Myara)</td>\n",
       "      <td>21</td>\n",
       "      <td>2022_01_01_Amarey-Lej.jpg</td>\n",
       "      <td>https://www.facebook.com/sistersPGH/posts/2103...</td>\n",
       "      <td>1-Jan-2022</td>\n",
       "      <td>tgeu/tdor2022/01-Jan-2022/Amariey Lei</td>\n",
       "      <td>Pittsburgh</td>\n",
       "      <td>Pennsylvania</td>\n",
       "      <td>USA</td>\n",
       "      <td>40.446237</td>\n",
       "      <td>-79.88511</td>\n",
       "      <td>violence</td>\n",
       "      <td>shot</td>\n",
       "      <td>Amarey was found dead in the street at around ...</td>\n",
       "      <td>Amarey Lej (Myara) was found dead in the stree...</td>\n",
       "      <td>https://tdor.translivesmatter.info/reports/202...</td>\n",
       "    </tr>\n",
       "    <tr>\n",
       "      <th>1</th>\n",
       "      <td>Blenda Schneider (Beatriz)</td>\n",
       "      <td>34</td>\n",
       "      <td>2022_01_01_Blenda-Schneider.jpg</td>\n",
       "      <td>https://g1.globo.com/pe/pernambuco/noticia/202...</td>\n",
       "      <td>2-Jan-2022</td>\n",
       "      <td>tgeu/tdor2022/02-Jan-2022/Blenda Schneider (Be...</td>\n",
       "      <td>Cabo de Santo Agostinho</td>\n",
       "      <td>Pernambuco</td>\n",
       "      <td>Brazil</td>\n",
       "      <td>-8.283895</td>\n",
       "      <td>-35.032098</td>\n",
       "      <td>violence</td>\n",
       "      <td>shot</td>\n",
       "      <td>Beatriz was shot in the street on her way back...</td>\n",
       "      <td>Blenda Schneider (Beatriz) was shot in the str...</td>\n",
       "      <td>https://tdor.translivesmatter.info/reports/202...</td>\n",
       "    </tr>\n",
       "    <tr>\n",
       "      <th>2</th>\n",
       "      <td>Briza Garces Florez</td>\n",
       "      <td>40</td>\n",
       "      <td>2022_01_02_Briza-Garces-Florez.jpg</td>\n",
       "      <td>https://viraltab.news/boyfriend-arrested-as-tr...</td>\n",
       "      <td>2-Jan-2022</td>\n",
       "      <td>tgeu/tdor2022/02-Jan-2022/Briza Garces Florez</td>\n",
       "      <td>Den Haag</td>\n",
       "      <td>South Holland</td>\n",
       "      <td>Netherlands</td>\n",
       "      <td>52.105506</td>\n",
       "      <td>4.357967</td>\n",
       "      <td>violence</td>\n",
       "      <td>stabbed</td>\n",
       "      <td>Briza's body was found covered in blood in a h...</td>\n",
       "      <td>The body of Briza Garces Florez was found in a...</td>\n",
       "      <td>https://tdor.translivesmatter.info/reports/202...</td>\n",
       "    </tr>\n",
       "    <tr>\n",
       "      <th>3</th>\n",
       "      <td>Duval Princess</td>\n",
       "      <td>24</td>\n",
       "      <td>2022_01_02_Duval-Princess.jpg</td>\n",
       "      <td>https://transgriot.com/only-2-days-into-the-ne...</td>\n",
       "      <td>2-Jan-2022</td>\n",
       "      <td>tgeu/tdor2022/03-Jan-2022/Duval Princess</td>\n",
       "      <td>Jacksonville</td>\n",
       "      <td>Florida</td>\n",
       "      <td>USA</td>\n",
       "      <td>30.253618</td>\n",
       "      <td>-81.554299</td>\n",
       "      <td>violence</td>\n",
       "      <td>not reported</td>\n",
       "      <td>Duval Princess died in hospital after being fo...</td>\n",
       "      <td>Duval Princess died in hospital after being fo...</td>\n",
       "      <td>https://tdor.translivesmatter.info/reports/202...</td>\n",
       "    </tr>\n",
       "    <tr>\n",
       "      <th>4</th>\n",
       "      <td>Joseline Calito</td>\n",
       "      <td>NaN</td>\n",
       "      <td>2022_01_01_Joseline-Calito.jpg</td>\n",
       "      <td>https://twitter.com/InfoOTRANS/status/14778844...</td>\n",
       "      <td>2-Jan-2022</td>\n",
       "      <td>tgeu/tdor2022/02-Jan-2022/Joseline Calito</td>\n",
       "      <td>Amatitlán</td>\n",
       "      <td>Guatemala</td>\n",
       "      <td>Guatemala</td>\n",
       "      <td>14.482314</td>\n",
       "      <td>-90.622492</td>\n",
       "      <td>violence</td>\n",
       "      <td>shot</td>\n",
       "      <td>Joseline was shot. No other information is kno...</td>\n",
       "      <td>Joseline Calito was shot in Amatitlán (Guatema...</td>\n",
       "      <td>https://tdor.translivesmatter.info/reports/202...</td>\n",
       "    </tr>\n",
       "  </tbody>\n",
       "</table>\n",
       "</div>"
      ],
      "text/plain": [
       "                         Name  Age                               Photo  \\\n",
       "0          Amarey Lej (Myara)   21           2022_01_01_Amarey-Lej.jpg   \n",
       "1  Blenda Schneider (Beatriz)   34     2022_01_01_Blenda-Schneider.jpg   \n",
       "2         Briza Garces Florez   40  2022_01_02_Briza-Garces-Florez.jpg   \n",
       "3              Duval Princess   24       2022_01_02_Duval-Princess.jpg   \n",
       "4             Joseline Calito  NaN      2022_01_01_Joseline-Calito.jpg   \n",
       "\n",
       "                                        Photo source        Date  \\\n",
       "0  https://www.facebook.com/sistersPGH/posts/2103...  1-Jan-2022   \n",
       "1  https://g1.globo.com/pe/pernambuco/noticia/202...  2-Jan-2022   \n",
       "2  https://viraltab.news/boyfriend-arrested-as-tr...  2-Jan-2022   \n",
       "3  https://transgriot.com/only-2-days-into-the-ne...  2-Jan-2022   \n",
       "4  https://twitter.com/InfoOTRANS/status/14778844...  2-Jan-2022   \n",
       "\n",
       "                                          Source ref   Town/City/Municipality  \\\n",
       "0              tgeu/tdor2022/01-Jan-2022/Amariey Lei               Pittsburgh   \n",
       "1  tgeu/tdor2022/02-Jan-2022/Blenda Schneider (Be...  Cabo de Santo Agostinho   \n",
       "2      tgeu/tdor2022/02-Jan-2022/Briza Garces Florez                 Den Haag   \n",
       "3           tgeu/tdor2022/03-Jan-2022/Duval Princess             Jacksonville   \n",
       "4          tgeu/tdor2022/02-Jan-2022/Joseline Calito                Amatitlán   \n",
       "\n",
       "  State/Province      Country   Latitude  Longitude  Category Cause of death  \\\n",
       "0   Pennsylvania          USA  40.446237  -79.88511  violence           shot   \n",
       "1     Pernambuco       Brazil  -8.283895 -35.032098  violence           shot   \n",
       "2  South Holland  Netherlands  52.105506   4.357967  violence        stabbed   \n",
       "3        Florida          USA  30.253618 -81.554299  violence   not reported   \n",
       "4      Guatemala    Guatemala  14.482314 -90.622492  violence           shot   \n",
       "\n",
       "                                         Description  \\\n",
       "0  Amarey was found dead in the street at around ...   \n",
       "1  Beatriz was shot in the street on her way back...   \n",
       "2  Briza's body was found covered in blood in a h...   \n",
       "3  Duval Princess died in hospital after being fo...   \n",
       "4  Joseline was shot. No other information is kno...   \n",
       "\n",
       "                                               Tweet  \\\n",
       "0  Amarey Lej (Myara) was found dead in the stree...   \n",
       "1  Blenda Schneider (Beatriz) was shot in the str...   \n",
       "2  The body of Briza Garces Florez was found in a...   \n",
       "3  Duval Princess died in hospital after being fo...   \n",
       "4  Joseline Calito was shot in Amatitlán (Guatema...   \n",
       "\n",
       "                                           Permalink  \n",
       "0  https://tdor.translivesmatter.info/reports/202...  \n",
       "1  https://tdor.translivesmatter.info/reports/202...  \n",
       "2  https://tdor.translivesmatter.info/reports/202...  \n",
       "3  https://tdor.translivesmatter.info/reports/202...  \n",
       "4  https://tdor.translivesmatter.info/reports/202...  "
      ]
     },
     "execution_count": 71,
     "metadata": {},
     "output_type": "execute_result"
    }
   ],
   "source": [
    "tdor.head()"
   ]
  },
  {
   "cell_type": "code",
   "execution_count": 72,
   "id": "aa81efc6-9d7a-4c5d-897d-412d3d482a6d",
   "metadata": {},
   "outputs": [],
   "source": [
    "# tdor.to_csv('../processed_data/tdor.csv',index=False)"
   ]
  }
 ],
 "metadata": {
  "kernelspec": {
   "display_name": "Python [conda env:root] *",
   "language": "python",
   "name": "conda-root-py"
  },
  "language_info": {
   "codemirror_mode": {
    "name": "ipython",
    "version": 3
   },
   "file_extension": ".py",
   "mimetype": "text/x-python",
   "name": "python",
   "nbconvert_exporter": "python",
   "pygments_lexer": "ipython3",
   "version": "3.9.12"
  }
 },
 "nbformat": 4,
 "nbformat_minor": 5
}
