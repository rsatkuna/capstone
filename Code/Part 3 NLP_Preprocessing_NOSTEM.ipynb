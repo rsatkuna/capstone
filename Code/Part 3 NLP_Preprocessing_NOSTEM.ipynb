{
 "cells": [
  {
   "cell_type": "markdown",
   "id": "11f1c5ca-8837-448f-a199-a05c25aee693",
   "metadata": {},
   "source": [
    "# Capstone Project: Part 3 Natural Language Processing Preprocessing"
   ]
  },
  {
   "cell_type": "code",
   "execution_count": 1,
   "id": "bdf0dfbc-ac25-4b59-b0f1-0c3b3d9c3a98",
   "metadata": {},
   "outputs": [],
   "source": [
    "# imports\n",
    "import numpy as np\n",
    "import pandas as pd\n",
    "from nltk.corpus import stopwords\n",
    "from nltk.tokenize import RegexpTokenizer\n",
    "from nltk.stem import WordNetLemmatizer\n",
    "from nltk.stem.porter import PorterStemmer\n",
    "import matplotlib.pyplot as plt\n",
    "from sklearn.model_selection import train_test_split, cross_val_score, cross_val_predict, KFold\n",
    "import re\n",
    "import unicodedata\n",
    "import nltk\n",
    "import os"
   ]
  },
  {
   "cell_type": "markdown",
   "id": "8802ba56-d57a-4ddc-a7c6-918c465e955c",
   "metadata": {
    "tags": []
   },
   "source": [
    "## Importing and Exploring Data"
   ]
  },
  {
   "cell_type": "code",
   "execution_count": 2,
   "id": "8aacc37f-7914-45da-9f59-4186fb9e7960",
   "metadata": {},
   "outputs": [],
   "source": [
    "# importing cleaned test and train datasets\n",
    "train = pd.read_csv('../Data/processed_data/train.csv')\n",
    "test = pd.read_csv('../Data/processed_data/test.csv')"
   ]
  },
  {
   "cell_type": "code",
   "execution_count": 3,
   "id": "1817a435-654a-426a-9263-d5f5e5051f6d",
   "metadata": {},
   "outputs": [],
   "source": [
    "train['description']=train['description'].apply(lambda x: re.sub('(Tiempo.+)| (Anodis.+)| (Espirito Santo.+)| (Campograndenews+)| (Informações de Whats.+)|(Pakistantoday.+)| (Radio TNN.+)| (LGBTT-Blogspot.+)| (Caribeafirmativo.+)| (salvatrucha\\.elsalvador\\.com.+)|(Native Out.+)|(Estado do Pernamb.+)|(Spiegel Online.+)|(La Prensa Gráfica.+)|(Aidsalliance\\.org.+)|(Equipo de Corresponsales.+)|(Tribuna Popul.+)|(Gazeta Popul.+)|(Homofobia Mat.+)|(The Advocate.+)|(Otago Daily.+)(Fundación Cuban.+)|(Homofobia Mat.+)|(Notie Se.+)|(Correio de.+)|(El Sol de Sin.+)|(24horas.+)|(La Prensa Escrit.+)|(Examiner.+)|(Diario da.+)|(Diario do.+)|(Diário do.+)|(Il Messaggero.+)|(Islington Gazette.+)|(Diario La Verdad.+)|(BBC News.+)|(Eyewitness News.+)|(Asia Pacific Transgender.+)|(Times of India.+)|(O Globo.+)|(Geo\\.tv.+)|(Sources\\:.+)|(Globo.+)|(Jornal de.+)|(La Razon.+)|(Sources\\:.+)|(The Buffalo News.+)|(Huffington Post.+)|(Blog do.+)|(Noticias Puebla.+)|(ABC 7.+)|(El Universal.+)(Portal Sida.+)|(ElsentidoG.+)|(Mailing-List.+)|(Equipo de Correspons.+)|(Publinews.+)|(Parautudo.+)|(Portal Sida.+)|(ElsentidoG.+)|(ANTRA.+)|(Mailing-List.+)|(Gaystarnews.+)|(Saltillo\\-Noticias.+)|(Mix Brasil.+)|(mambaonline.+)|(Aidsalliance.+)|(The Dominion Post.+)|(Folha de.+)|(Pinknews.+)|(El Comer.+)|(Malay Mail.+)|(Univision.+)|(Ulisex.+)|(Equipo de Correspo.+)|(poenaroda.+)|(lgbtinewsturkey.+)|(Tvt project.+)|(Democracy Now.+)|(Dos Manza.+)|(Athos.+)|(El Univer.+)|(New Strait Times.+)|(WTHR.+)|(CERIGU.+)|(\\[Observatório.+)|(Source\\:.+)|(\\[BROKEN LINK\\])|(Transrespect.+)|(Facebook profile.+)|(IBTE.+)|(Pembehayat.+)|(El Heraldo.+)|(El heraldo.+)|(Grupo Gay da.+)|(ASTRA Rio.+)|(\\\\r)|(Centro de Apoyo.+)|(Travestis e Trans.+)|(TvT.+)|(http\\S+)|(www\\S+)|(\\<.+\\>)|([\\S]{20,})|(\\\\n\\>)|(\\\\n)', '', x))\n",
    "test['description']=test['description'].apply(lambda x: re.sub('(Tiempo.+)| (Anodis.+)| (Espirito Santo.+)| (Campograndenews+)| (Informações de Whats.+)|(Pakistantoday.+)| (Radio TNN.+)| (LGBTT-Blogspot.+)| (Caribeafirmativo.+)| (salvatrucha\\.elsalvador\\.com.+)|(Native Out.+)|(Estado do Pernamb.+)|(Spiegel Online.+)|(La Prensa Gráfica.+)|(Aidsalliance\\.org.+)|(Equipo de Corresponsales.+)|(Tribuna Popul.+)|(Gazeta Popul.+)|(Homofobia Mat.+)|(The Advocate.+)|(Otago Daily.+)(Fundación Cuban.+)|(Homofobia Mat.+)|(Notie Se.+)|(Correio de.+)|(El Sol de Sin.+)|(24horas.+)|(La Prensa Escrit.+)|(Examiner.+)|(Diario da.+)|(Diario do.+)|(Diário do.+)|(Il Messaggero.+)|(Islington Gazette.+)|(Diario La Verdad.+)|(BBC News.+)|(Eyewitness News.+)|(Asia Pacific Transgender.+)|(Times of India.+)|(O Globo.+)|(Geo\\.tv.+)|(Sources\\:.+)|(Globo.+)|(Jornal de.+)|(La Razon.+)|(Sources\\:.+)|(The Buffalo News.+)|(Huffington Post.+)|(Blog do.+)|(Noticias Puebla.+)|(ABC 7.+)|(El Universal.+)(Portal Sida.+)|(ElsentidoG.+)|(Mailing-List.+)|(Equipo de Correspons.+)|(Publinews.+)|(Parautudo.+)|(Portal Sida.+)|(ElsentidoG.+)|(ANTRA.+)|(Mailing-List.+)|(Gaystarnews.+)|(Saltillo\\-Noticias.+)|(Mix Brasil.+)|(mambaonline.+)|(Aidsalliance.+)|(The Dominion Post.+)|(Folha de.+)|(Pinknews.+)|(El Comer.+)|(Malay Mail.+)|(Univision.+)|(Ulisex.+)|(Equipo de Correspo.+)|(poenaroda.+)|(lgbtinewsturkey.+)|(Tvt project.+)|(Democracy Now.+)|(Dos Manza.+)|(Athos.+)|(El Univer.+)|(New Strait Times.+)|(WTHR.+)|(CERIGU.+)|(\\[Observatório.+)|(Source\\:.+)|(\\[BROKEN LINK\\])|(Transrespect.+)|(Facebook profile.+)|(IBTE.+)|(Pembehayat.+)|(El Heraldo.+)|(El heraldo.+)|(Grupo Gay da.+)|(ASTRA Rio.+)|(\\\\r)|(Centro de Apoyo.+)|(Travestis e Trans.+)|(TvT.+)|(http\\S+)|(www\\S+)|(\\<.+\\>)|([\\S]{20,})|(\\\\n\\>)|(\\\\n)', '', x))\n"
   ]
  },
  {
   "cell_type": "markdown",
   "id": "d8a6eaa1-c0f7-4f1f-9a26-48aa853f865f",
   "metadata": {},
   "source": [
    "## Natural Language Processing Parsing"
   ]
  },
  {
   "cell_type": "code",
   "execution_count": 4,
   "id": "91995b06-304b-4e09-b0c4-198ee329460d",
   "metadata": {},
   "outputs": [],
   "source": [
    "# making list of columns for primary NLP parsing\n",
    "nlp_column = ['description']"
   ]
  },
  {
   "cell_type": "markdown",
   "id": "2ba644cd-2e72-4393-a279-9054992f0b52",
   "metadata": {
    "tags": []
   },
   "source": [
    "### Tokenize text data"
   ]
  },
  {
   "cell_type": "code",
   "execution_count": 5,
   "id": "5ef8f5cd-42da-4108-b7a8-7986497d0e5a",
   "metadata": {},
   "outputs": [],
   "source": [
    "# making function to remove whitespace, keep alphabet characters, and lowercase \n",
    "def tokendata(df,col_list):\n",
    "    token = RegexpTokenizer(r'[\\w\\'\\']+')\n",
    "    for j in col_list:\n",
    "        token_items = [token.tokenize(i.lower()) for i in df[j]]\n",
    "        df[f'tokenized_{j}'] = token_items\n",
    "    return df"
   ]
  },
  {
   "cell_type": "code",
   "execution_count": 6,
   "id": "6e5fce01-44a7-47ba-8d31-14c81cfe9138",
   "metadata": {},
   "outputs": [],
   "source": [
    "# tokenize combined dataframes\n",
    "train = tokendata(train, nlp_column)\n",
    "test = tokendata(test,nlp_column)"
   ]
  },
  {
   "cell_type": "markdown",
   "id": "eb83f36a-c5e6-4f62-8977-055630137032",
   "metadata": {
    "tags": []
   },
   "source": [
    "### Lemmatize text data"
   ]
  },
  {
   "cell_type": "code",
   "execution_count": 7,
   "id": "6b675bfd-e8fd-44bd-aef9-010d0235e73f",
   "metadata": {},
   "outputs": [],
   "source": [
    "cols_list=['tokenized_description']"
   ]
  },
  {
   "cell_type": "code",
   "execution_count": 8,
   "id": "0168a04a-e490-46b1-8d96-2356e4e70ec2",
   "metadata": {},
   "outputs": [],
   "source": [
    "def lemmad(words):\n",
    "    lemma=WordNetLemmatizer()\n",
    "    lemmad_row = [lemma.lemmatize(word) for word in words]\n",
    "    return lemmad_row"
   ]
  },
  {
   "cell_type": "code",
   "execution_count": 9,
   "id": "e690d46e-8665-4e70-8a91-6075811818d8",
   "metadata": {},
   "outputs": [],
   "source": [
    "# making function to lemmatize the text data\n",
    "train['lemmatized_tokenized_description']=train['tokenized_description'].apply(lemmad)\n",
    "test['lemmatized_tokenized_description']=test['tokenized_description'].apply(lemmad)"
   ]
  },
  {
   "cell_type": "markdown",
   "id": "17bfed28-71c1-46bc-ae60-12ef96633cda",
   "metadata": {},
   "source": [
    "# EDA"
   ]
  },
  {
   "cell_type": "code",
   "execution_count": 10,
   "id": "d2b0d31f-ac0e-41e9-a116-a49226205dbc",
   "metadata": {},
   "outputs": [],
   "source": [
    "train1=train.copy()\n",
    "test1=test.copy()"
   ]
  },
  {
   "cell_type": "code",
   "execution_count": 11,
   "id": "21cbe5f8-ea03-4c97-9090-6ff82a113b27",
   "metadata": {},
   "outputs": [],
   "source": [
    "train1['length']=[len(x) for x in train1['lemmatized_tokenized_description']]\n",
    "test1['length']=[len(x) for x in test1['lemmatized_tokenized_description']]"
   ]
  },
  {
   "cell_type": "code",
   "execution_count": 12,
   "id": "f2068940-64d0-49f3-93da-543ae1cf3d46",
   "metadata": {},
   "outputs": [
    {
     "data": {
      "image/png": "[encoded data removed]",
      "text/plain": [
       "<Figure size 432x288 with 1 Axes>"
      ]
     },
     "metadata": {
      "needs_background": "light"
     },
     "output_type": "display_data"
    }
   ],
   "source": [
    "plt.hist(train1['length'], bins=40)\n",
    "plt.xlabel('Average Number of Words Per Text Post')\n",
    "plt.ylabel('Count')\n",
    "plt.title('Distribution of Word Count per Text Post in Training Set')\n",
    "plt.xlim(0,1000)\n",
    "plt.ylim(0,1500);\n",
    "# plt.savefig('wordcountdistributiontrain')"
   ]
  },
  {
   "cell_type": "markdown",
   "id": "06ed050e-195a-46af-a612-fc79185c916b",
   "metadata": {},
   "source": [
    "n. This figure represents the distribution of word count per text post in training set"
   ]
  },
  {
   "cell_type": "code",
   "execution_count": 13,
   "id": "649f0c95-6cb0-4a9c-be63-61d83013ada5",
   "metadata": {},
   "outputs": [
    {
     "data": {
      "image/png": "[encoded data removed]",
      "text/plain": [
       "<Figure size 432x288 with 1 Axes>"
      ]
     },
     "metadata": {
      "needs_background": "light"
     },
     "output_type": "display_data"
    }
   ],
   "source": [
    "plt.hist(test1['length'], bins=40)\n",
    "plt.xlabel('Average Number of Words Per Text Post')\n",
    "plt.ylabel('Count')\n",
    "plt.title('Distribution of Word Count per Text Post in Testing Set')\n",
    "plt.xlim(0,1000)\n",
    "plt.ylim(0,500);\n",
    "# plt.savefig('wordcountdistributiontest')"
   ]
  },
  {
   "cell_type": "markdown",
   "id": "6d8c96db-a8f8-4095-b98a-bd1351631a71",
   "metadata": {},
   "source": [
    "n. This figure represents the distribution of word count per text post in testing set"
   ]
  },
  {
   "cell_type": "code",
   "execution_count": 14,
   "id": "2cb06799-8d12-4e55-a328-9bea0d2b17c3",
   "metadata": {},
   "outputs": [],
   "source": [
    "train['lemmatized_tokenized_description'] = [' '.join(l) for l in train['lemmatized_tokenized_description']]\n",
    "test['lemmatized_tokenized_description'] = [' '.join(l) for l in test['lemmatized_tokenized_description']]"
   ]
  },
  {
   "cell_type": "markdown",
   "id": "3143462d-188c-4ffe-8fb7-24c530a27cf6",
   "metadata": {},
   "source": [
    "## Exporting to CSV"
   ]
  },
  {
   "cell_type": "code",
   "execution_count": 15,
   "id": "37fee2de-431d-46da-8319-37427ef152d9",
   "metadata": {},
   "outputs": [],
   "source": [
    "# export nlp train Dataframe\n",
    "# train.to_csv('../Data/processed_data/nlp_train.csv',index=False)"
   ]
  },
  {
   "cell_type": "code",
   "execution_count": 16,
   "id": "a013e609-0707-4a2a-a1c1-23005fa2afd4",
   "metadata": {},
   "outputs": [],
   "source": [
    "# export nlp test Dataframe\n",
    "# test.to_csv('../Data/processed_data/nlp_test.csv',index=False)"
   ]
  }
 ],
 "metadata": {
  "kernelspec": {
   "display_name": "Python [conda env:dsi]",
   "language": "python",
   "name": "conda-env-dsi-py"
  },
  "language_info": {
   "codemirror_mode": {
    "name": "ipython",
    "version": 3
   },
   "file_extension": ".py",
   "mimetype": "text/x-python",
   "name": "python",
   "nbconvert_exporter": "python",
   "pygments_lexer": "ipython3",
   "version": "3.9.7"
  }
 },
 "nbformat": 4,
 "nbformat_minor": 5
}
